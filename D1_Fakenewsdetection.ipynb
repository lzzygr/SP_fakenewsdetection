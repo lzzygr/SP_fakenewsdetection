{
 "cells": [
  {
   "cell_type": "markdown",
   "id": "6c631747-178a-4ad8-82bb-13bb675be084",
   "metadata": {},
   "source": [
    "# Dataset 1 "
   ]
  },
  {
   "cell_type": "code",
   "execution_count": 135,
   "id": "5e693f4f-963f-4a56-93e6-cd614cbffdde",
   "metadata": {},
   "outputs": [],
   "source": [
    "import numpy as np\n",
    "import pandas as pd\n",
    "import re\n",
    "import itertools\n",
    "from nltk.corpus import stopwords\n",
    "from nltk.stem.porter import PorterStemmer\n",
    "from sklearn.feature_extraction.text import TfidfVectorizer\n",
    "from sklearn.model_selection import train_test_split\n",
    "from sklearn.neighbors import KNeighborsClassifier\n",
    "from sklearn.model_selection import GridSearchCV\n",
    "from sklearn.linear_model import LogisticRegression\n",
    "from sklearn.naive_bayes import MultinomialNB \n",
    "from sklearn.svm import SVC\n",
    "from sklearn import svm\n",
    "from sklearn import tree\n",
    "import sklearn.metrics as metrics\n",
    "from sklearn.metrics import classification_report\n",
    "from sklearn.metrics import confusion_matrix\n",
    "from sklearn.metrics import confusion_matrix, recall_score, f1_score, accuracy_score, roc_auc_score\n",
    "import matplotlib.pyplot as plt\n",
    "import seaborn as sb\n",
    "import nltk"
   ]
  },
  {
   "cell_type": "markdown",
   "id": "c011d733-57cc-46ae-9ef2-481cc61c7db5",
   "metadata": {},
   "source": [
    "## Exploring the Dataset"
   ]
  },
  {
   "cell_type": "code",
   "execution_count": 136,
   "id": "afe22769-ebfc-4fa5-b313-2ad49838959a",
   "metadata": {},
   "outputs": [],
   "source": [
    "# loading the dataset to a pandas dataframe\n",
    "news_dataset = pd.read_csv('Documents/COLLEGE/THESIS/DATASET/PH_dataset1.csv')"
   ]
  },
  {
   "cell_type": "code",
   "execution_count": 137,
   "id": "cca78449-ba92-400e-af6f-1ff34f40afcc",
   "metadata": {},
   "outputs": [
    {
     "data": {
      "text/plain": [
       "(3206, 2)"
      ]
     },
     "execution_count": 137,
     "metadata": {},
     "output_type": "execute_result"
    }
   ],
   "source": [
    "# number of (rows, columns) = (news articles, features)\n",
    "news_dataset.shape"
   ]
  },
  {
   "cell_type": "code",
   "execution_count": 138,
   "id": "66338877-7bf8-49df-815c-4be96f3b8be6",
   "metadata": {},
   "outputs": [
    {
     "data": {
      "text/html": [
       "<div>\n",
       "<style scoped>\n",
       "    .dataframe tbody tr th:only-of-type {\n",
       "        vertical-align: middle;\n",
       "    }\n",
       "\n",
       "    .dataframe tbody tr th {\n",
       "        vertical-align: top;\n",
       "    }\n",
       "\n",
       "    .dataframe thead th {\n",
       "        text-align: right;\n",
       "    }\n",
       "</style>\n",
       "<table border=\"1\" class=\"dataframe\">\n",
       "  <thead>\n",
       "    <tr style=\"text-align: right;\">\n",
       "      <th></th>\n",
       "      <th>label</th>\n",
       "      <th>article</th>\n",
       "    </tr>\n",
       "  </thead>\n",
       "  <tbody>\n",
       "    <tr>\n",
       "      <th>0</th>\n",
       "      <td>0</td>\n",
       "      <td>Ayon sa TheWrap.com, naghain ng kaso si Krupa,...</td>\n",
       "    </tr>\n",
       "    <tr>\n",
       "      <th>1</th>\n",
       "      <td>0</td>\n",
       "      <td>Kilala rin ang singer sa pagkumpas ng kanyang ...</td>\n",
       "    </tr>\n",
       "    <tr>\n",
       "      <th>2</th>\n",
       "      <td>0</td>\n",
       "      <td>BLANTYRE, Malawi (AP) -- Bumiyahe patungong Ma...</td>\n",
       "    </tr>\n",
       "    <tr>\n",
       "      <th>3</th>\n",
       "      <td>0</td>\n",
       "      <td>Kasama sa programa ang pananalangin, bulaklak ...</td>\n",
       "    </tr>\n",
       "    <tr>\n",
       "      <th>4</th>\n",
       "      <td>0</td>\n",
       "      <td>Linisin ang Friendship Department dahil dadala...</td>\n",
       "    </tr>\n",
       "  </tbody>\n",
       "</table>\n",
       "</div>"
      ],
      "text/plain": [
       "   label                                            article\n",
       "0      0  Ayon sa TheWrap.com, naghain ng kaso si Krupa,...\n",
       "1      0  Kilala rin ang singer sa pagkumpas ng kanyang ...\n",
       "2      0  BLANTYRE, Malawi (AP) -- Bumiyahe patungong Ma...\n",
       "3      0  Kasama sa programa ang pananalangin, bulaklak ...\n",
       "4      0  Linisin ang Friendship Department dahil dadala..."
      ]
     },
     "execution_count": 138,
     "metadata": {},
     "output_type": "execute_result"
    }
   ],
   "source": [
    "# print the first 5 rows of the dataframe\n",
    "news_dataset.head()"
   ]
  },
  {
   "cell_type": "markdown",
   "id": "d6b5bd5d-b05e-4301-8878-c55b6f82e095",
   "metadata": {},
   "source": [
    "## Initializing Dataset"
   ]
  },
  {
   "cell_type": "code",
   "execution_count": 112,
   "id": "851558b1-08ce-4892-a508-3877a49120a1",
   "metadata": {},
   "outputs": [],
   "source": [
    "# replacing values in the 'label' column\n",
    "news_dataset['label'] = news_dataset['label'].replace({'REAL': 0, 'FAKE': 1})"
   ]
  },
  {
   "cell_type": "code",
   "execution_count": 114,
   "id": "54814bd0-905f-4430-b8ec-9a0c6bf786fb",
   "metadata": {},
   "outputs": [],
   "source": [
    "#removing the 'idd' column\n",
    "#news_dataset.drop('idd', axis=1, inplace=True)"
   ]
  },
  {
   "cell_type": "code",
   "execution_count": 115,
   "id": "05143d12-cd8f-4812-b4f8-4790189024f8",
   "metadata": {},
   "outputs": [
    {
     "data": {
      "text/html": [
       "<div>\n",
       "<style scoped>\n",
       "    .dataframe tbody tr th:only-of-type {\n",
       "        vertical-align: middle;\n",
       "    }\n",
       "\n",
       "    .dataframe tbody tr th {\n",
       "        vertical-align: top;\n",
       "    }\n",
       "\n",
       "    .dataframe thead th {\n",
       "        text-align: right;\n",
       "    }\n",
       "</style>\n",
       "<table border=\"1\" class=\"dataframe\">\n",
       "  <thead>\n",
       "    <tr style=\"text-align: right;\">\n",
       "      <th></th>\n",
       "      <th>label</th>\n",
       "      <th>article</th>\n",
       "    </tr>\n",
       "  </thead>\n",
       "  <tbody>\n",
       "    <tr>\n",
       "      <th>0</th>\n",
       "      <td>0</td>\n",
       "      <td>Ayon sa TheWrap.com, naghain ng kaso si Krupa,...</td>\n",
       "    </tr>\n",
       "    <tr>\n",
       "      <th>1</th>\n",
       "      <td>0</td>\n",
       "      <td>Kilala rin ang singer sa pagkumpas ng kanyang ...</td>\n",
       "    </tr>\n",
       "    <tr>\n",
       "      <th>2</th>\n",
       "      <td>0</td>\n",
       "      <td>BLANTYRE, Malawi (AP) -- Bumiyahe patungong Ma...</td>\n",
       "    </tr>\n",
       "    <tr>\n",
       "      <th>3</th>\n",
       "      <td>0</td>\n",
       "      <td>Kasama sa programa ang pananalangin, bulaklak ...</td>\n",
       "    </tr>\n",
       "    <tr>\n",
       "      <th>4</th>\n",
       "      <td>0</td>\n",
       "      <td>Linisin ang Friendship Department dahil dadala...</td>\n",
       "    </tr>\n",
       "  </tbody>\n",
       "</table>\n",
       "</div>"
      ],
      "text/plain": [
       "   label                                            article\n",
       "0      0  Ayon sa TheWrap.com, naghain ng kaso si Krupa,...\n",
       "1      0  Kilala rin ang singer sa pagkumpas ng kanyang ...\n",
       "2      0  BLANTYRE, Malawi (AP) -- Bumiyahe patungong Ma...\n",
       "3      0  Kasama sa programa ang pananalangin, bulaklak ...\n",
       "4      0  Linisin ang Friendship Department dahil dadala..."
      ]
     },
     "execution_count": 115,
     "metadata": {},
     "output_type": "execute_result"
    }
   ],
   "source": [
    "news_dataset.head()"
   ]
  },
  {
   "cell_type": "code",
   "execution_count": 139,
   "id": "a1d8a471-764e-4d42-9a80-f8a7257b68a6",
   "metadata": {},
   "outputs": [
    {
     "data": {
      "image/png": "[encoded data removed]",
      "text/plain": [
       "<Figure size 640x480 with 1 Axes>"
      ]
     },
     "metadata": {},
     "output_type": "display_data"
    }
   ],
   "source": [
    "news_dataset['label'].value_counts().plot(kind='bar')\n",
    "plt.title('Distribution of Fake and Non-Fake News')\n",
    "plt.show()"
   ]
  },
  {
   "cell_type": "markdown",
   "id": "d9cab449-b243-460d-9036-24f0aee20512",
   "metadata": {},
   "source": [
    "## Data Cleaning"
   ]
  },
  {
   "cell_type": "markdown",
   "id": "9d10081b-ded2-43d1-aec6-24acf6627c21",
   "metadata": {},
   "source": [
    "### <font color=orange> Handling Missing Values"
   ]
  },
  {
   "cell_type": "code",
   "execution_count": 117,
   "id": "7c8aad5d-b569-4714-b34c-ed72cdebca44",
   "metadata": {},
   "outputs": [
    {
     "data": {
      "text/plain": [
       "label      0\n",
       "article    0\n",
       "dtype: int64"
      ]
     },
     "execution_count": 117,
     "metadata": {},
     "output_type": "execute_result"
    }
   ],
   "source": [
    "# counting the number of missing values in the dataset\n",
    "news_dataset.isnull().sum()"
   ]
  },
  {
   "cell_type": "code",
   "execution_count": 118,
   "id": "0d117a0e-40a0-4213-8f70-8e285b000c68",
   "metadata": {},
   "outputs": [],
   "source": [
    "# replacing the null values with empty string\n",
    "news_dataset = news_dataset.fillna('')"
   ]
  },
  {
   "cell_type": "markdown",
   "id": "f8bc503d-32a1-4983-ae1f-c57fd4bcd606",
   "metadata": {},
   "source": [
    "### <font color=orange>Removing Duplicate Entries"
   ]
  },
  {
   "cell_type": "code",
   "execution_count": 119,
   "id": "998405af-9ebb-4120-a176-480dcf056a83",
   "metadata": {},
   "outputs": [
    {
     "data": {
      "text/plain": [
       "0       False\n",
       "1       False\n",
       "2       False\n",
       "3       False\n",
       "4       False\n",
       "        ...  \n",
       "3201    False\n",
       "3202    False\n",
       "3203    False\n",
       "3204    False\n",
       "3205    False\n",
       "Length: 3206, dtype: bool"
      ]
     },
     "execution_count": 119,
     "metadata": {},
     "output_type": "execute_result"
    }
   ],
   "source": [
    "#checking for duplicated values\n",
    "news_dataset.duplicated(['label', 'article'])"
   ]
  },
  {
   "cell_type": "markdown",
   "id": "42057d41-24ef-4254-89c1-4bec52a9ac27",
   "metadata": {},
   "source": [
    "### <font color=orange> Merging Columns"
   ]
  },
  {
   "cell_type": "code",
   "execution_count": 120,
   "id": "6c43f171-a9eb-4a50-9e4f-21c73e4619bb",
   "metadata": {},
   "outputs": [],
   "source": [
    "# renaming the article column\n",
    "news_dataset['content'] = news_dataset['article']"
   ]
  },
  {
   "cell_type": "code",
   "execution_count": 121,
   "id": "b63777a8-f1d1-4908-9124-60a9915bf6bd",
   "metadata": {},
   "outputs": [],
   "source": [
    "# dropping the article column\n",
    "news_dataset.drop(columns=['article'], inplace=True)"
   ]
  },
  {
   "cell_type": "code",
   "execution_count": 122,
   "id": "94d7630b-8253-435e-a0f5-9322158baea0",
   "metadata": {},
   "outputs": [
    {
     "data": {
      "text/html": [
       "<div>\n",
       "<style scoped>\n",
       "    .dataframe tbody tr th:only-of-type {\n",
       "        vertical-align: middle;\n",
       "    }\n",
       "\n",
       "    .dataframe tbody tr th {\n",
       "        vertical-align: top;\n",
       "    }\n",
       "\n",
       "    .dataframe thead th {\n",
       "        text-align: right;\n",
       "    }\n",
       "</style>\n",
       "<table border=\"1\" class=\"dataframe\">\n",
       "  <thead>\n",
       "    <tr style=\"text-align: right;\">\n",
       "      <th></th>\n",
       "      <th>label</th>\n",
       "      <th>content</th>\n",
       "    </tr>\n",
       "  </thead>\n",
       "  <tbody>\n",
       "    <tr>\n",
       "      <th>0</th>\n",
       "      <td>0</td>\n",
       "      <td>Ayon sa TheWrap.com, naghain ng kaso si Krupa,...</td>\n",
       "    </tr>\n",
       "    <tr>\n",
       "      <th>1</th>\n",
       "      <td>0</td>\n",
       "      <td>Kilala rin ang singer sa pagkumpas ng kanyang ...</td>\n",
       "    </tr>\n",
       "    <tr>\n",
       "      <th>2</th>\n",
       "      <td>0</td>\n",
       "      <td>BLANTYRE, Malawi (AP) -- Bumiyahe patungong Ma...</td>\n",
       "    </tr>\n",
       "    <tr>\n",
       "      <th>3</th>\n",
       "      <td>0</td>\n",
       "      <td>Kasama sa programa ang pananalangin, bulaklak ...</td>\n",
       "    </tr>\n",
       "    <tr>\n",
       "      <th>4</th>\n",
       "      <td>0</td>\n",
       "      <td>Linisin ang Friendship Department dahil dadala...</td>\n",
       "    </tr>\n",
       "  </tbody>\n",
       "</table>\n",
       "</div>"
      ],
      "text/plain": [
       "   label                                            content\n",
       "0      0  Ayon sa TheWrap.com, naghain ng kaso si Krupa,...\n",
       "1      0  Kilala rin ang singer sa pagkumpas ng kanyang ...\n",
       "2      0  BLANTYRE, Malawi (AP) -- Bumiyahe patungong Ma...\n",
       "3      0  Kasama sa programa ang pananalangin, bulaklak ...\n",
       "4      0  Linisin ang Friendship Department dahil dadala..."
      ]
     },
     "execution_count": 122,
     "metadata": {},
     "output_type": "execute_result"
    }
   ],
   "source": [
    "news_dataset.head()"
   ]
  },
  {
   "cell_type": "markdown",
   "id": "1fd53894-4782-4085-af19-70a6915107ae",
   "metadata": {},
   "source": [
    "## Text Normalization"
   ]
  },
  {
   "cell_type": "markdown",
   "id": "8f592618-aa34-46f3-9641-9e6a2223fb8b",
   "metadata": {},
   "source": [
    "### <font color=orange> Separating Columns"
   ]
  },
  {
   "cell_type": "code",
   "execution_count": 123,
   "id": "5c4bf334-9b82-49f8-8b8f-a7c5ba8111eb",
   "metadata": {},
   "outputs": [],
   "source": [
    "# separating the data & label\n",
    "X = news_dataset.drop(columns='label', axis=1)\n",
    "Y = news_dataset['label']"
   ]
  },
  {
   "cell_type": "code",
   "execution_count": 124,
   "id": "9950bafa-82d4-4191-91bb-6998dff84b25",
   "metadata": {},
   "outputs": [
    {
     "name": "stdout",
     "output_type": "stream",
     "text": [
      "                                                content\n",
      "0     Ayon sa TheWrap.com, naghain ng kaso si Krupa,...\n",
      "1     Kilala rin ang singer sa pagkumpas ng kanyang ...\n",
      "2     BLANTYRE, Malawi (AP) -- Bumiyahe patungong Ma...\n",
      "3     Kasama sa programa ang pananalangin, bulaklak ...\n",
      "4     Linisin ang Friendship Department dahil dadala...\n",
      "...                                                 ...\n",
      "3201  Hindi pa nai-enjoy ni Giacomo Filibeck ang Pil...\n",
      "3202  Sa isang pahayag, binatikos ng Liberal Party (...\n",
      "3203  Panoorin nyo yung reaction video na ito ni Mr....\n",
      "3204  Para sa mga magkakapatid na laging nagtatalo l...\n",
      "3205  Grabe ibang klase talaga si Vice Ganda kung ma...\n",
      "\n",
      "[3206 rows x 1 columns]\n",
      "0       0\n",
      "1       0\n",
      "2       0\n",
      "3       0\n",
      "4       0\n",
      "       ..\n",
      "3201    1\n",
      "3202    1\n",
      "3203    1\n",
      "3204    1\n",
      "3205    1\n",
      "Name: label, Length: 3206, dtype: int64\n"
     ]
    }
   ],
   "source": [
    "print(X)\n",
    "print(Y)"
   ]
  },
  {
   "cell_type": "markdown",
   "id": "1b0b31bc-44be-45f1-bb81-4783bb7736db",
   "metadata": {},
   "source": [
    "### <font color=orange> Stemming"
   ]
  },
  {
   "cell_type": "code",
   "execution_count": 125,
   "id": "f92de0a8-3fb1-40a7-a472-b870b0f27825",
   "metadata": {},
   "outputs": [],
   "source": [
    "# initialize the Porter Stemmer\n",
    "port_stem = PorterStemmer()"
   ]
  },
  {
   "cell_type": "code",
   "execution_count": 126,
   "id": "98037287-7a40-4f8a-a70a-22cd3be65c84",
   "metadata": {},
   "outputs": [],
   "source": [
    "def stemming(content):\n",
    "    stemmed_content = re.sub('[^a-zA-Z]',' ',content) #removes non alphabets and replaces it with space\n",
    "    stemmed_content = stemmed_content.lower() #lowercasing\n",
    "    stemmed_content = stemmed_content.split() #tokenizing\n",
    "    stemmed_content = [port_stem.stem(word) for word in stemmed_content if not word in stopwords.words('english')] #removing stopwords\n",
    "    stemmed_content = ' '.join(stemmed_content)\n",
    "    return stemmed_content"
   ]
  },
  {
   "cell_type": "code",
   "execution_count": 127,
   "id": "4a4d5968-f1ce-4325-8b43-a9c30116dbe5",
   "metadata": {},
   "outputs": [],
   "source": [
    "news_dataset['content'] = news_dataset['content'].apply(stemming) #stemming"
   ]
  },
  {
   "cell_type": "code",
   "execution_count": 128,
   "id": "790cb8cb-17a9-4c44-880e-2fc55989ee3c",
   "metadata": {},
   "outputs": [
    {
     "name": "stdout",
     "output_type": "stream",
     "text": [
      "0       ayon sa thewrap com naghain ng kaso si krupa n...\n",
      "1       kilala rin ang singer sa pagkumpa ng kanyang k...\n",
      "2       blantyr malawi ap bumiyah patungong malawi si ...\n",
      "3       kasama sa programa ang pananalangin bulaklak p...\n",
      "4       linisin ang friendship depart dahil dadalawin ...\n",
      "                              ...                        \n",
      "3201    hindi pa nai enjoy ni giacomo filibeck ang pil...\n",
      "3202    sa isang pahayag binatiko ng liber parti lp an...\n",
      "3203    panoorin nyo yung reaction video na ito ni mr ...\n",
      "3204    para sa mga magkakapatid na lage nagtatalo lal...\n",
      "3205    grabe ibang klase talaga si vice ganda kung ma...\n",
      "Name: content, Length: 3206, dtype: object\n"
     ]
    }
   ],
   "source": [
    "print(news_dataset['content'])"
   ]
  },
  {
   "cell_type": "markdown",
   "id": "ffa60fd1-ae2d-4741-847b-6ec32164fc3d",
   "metadata": {},
   "source": [
    "## separating the data and label"
   ]
  },
  {
   "cell_type": "code",
   "execution_count": 129,
   "id": "9ea7c376-4834-4577-8c19-197ecea11b4c",
   "metadata": {},
   "outputs": [],
   "source": [
    "X = news_dataset['content'].values\n",
    "Y = news_dataset['label'].values"
   ]
  },
  {
   "cell_type": "code",
   "execution_count": 130,
   "id": "af7ed1bb-6a41-4647-959e-c03638569787",
   "metadata": {},
   "outputs": [
    {
     "name": "stdout",
     "output_type": "stream",
     "text": [
      "['ayon sa thewrap com naghain ng kaso si krupa noong huweb dahil nakarana umano siya ng emot distress bunga ng mga malisyosong pahayag ni glanvil hindi lamang tungkol sa maselang bahagi ng kanyang katawan kundi pati na rin sa kanyang buhay pag ibig noong nobyembr napanood si brandi sa watch happen live sinab kinausap umano ito ng date karelasyon ni joanna si moham hadid na noon ay kasal sa cast member ng real housew beverli hill na si yolanda foster habang nasa relasyon ang nagsab ang kanyang p sy smell classi pa rin naman ang pagkakabanggit dito ni brandi noong disyembr gumawa ng mga panibagong komento si glanvil sa kanyang pagharap sa youtub sinab help odor situat makalipa ang ilang linggo nagpadala ng sulat ang mga abogado ni krupa kay brandi tungkol sa kanilang planong pagsampa ng kaso nakalakip sa sulat ng abogado ni joanna na knew statement fals damag humili mr krupa husband subject mr krupa hatr ridicul contempt injuri moreov appear make fals statement mr krupa make market associ name celebr attempt tag media person search creat brand monetari attempt celebr statu part pa rin ng sulat statement malici knowingli fals laman ng kaso ang umano danyo sa pagtitii ni krupa na ma mataa pa sa'\n",
      " 'kilala rin ang singer sa pagkumpa ng kanyang kamay tuw siya ay nagtatangh sa entablado intern success blue rock singer began continu till day joe creat nearli album tour extens around globe ayon sa soni music ang kanyang record label lumaki si cocker sa britain nanirahan sa crawford colorado nagpahayag ng pakikiramay ang mga kapwa musikero umiidolo sa singer gamit ang kanilang twitter na kinilala bilang offic order british empir obe sa buckingham palac goodby god bless joe cocker one friend peac love r ayon sa kanyang kabanda sa beatl na si ringo starr love forev miss alway rip joe cocker pahayag ni steven tyler front man ng aerosmith inilarawan naman ni bryan adam si cocker bilang isang mabut kaibigan isa sa pinakamahuhusay na singer'\n",
      " 'blantyr malawi ap bumiyah patungong malawi si madonna sa unang pagkakataon upang gawin ang isang misyon inilunsad ni madonna ang bed pediatr ward sa queen elizabeth central hospit sa blantyr noong huweb ayon kay sarah ezzi director ng rais malawi ang bagong pasilidad ay unang pediatr intens care unit sa bansa'\n",
      " ...\n",
      " 'panoorin nyo yung reaction video na ito ni mr claro third trend na ito ngayon sa social media total view write bakit kaya nage trend ito dahil ata sa titl may watch video link'\n",
      " 'para sa mga magkakapatid na lage nagtatalo lalo na noong bata pa siguradong naka relat din kayo sa mala aso pusa na pag aaway nina bilog bunak na viral ngayon grabe kase tatama sa puso ninyo maibabalik ang iyong nakaraan kaya talagang nage viral ang video ng dalawang magkapatid na ito sa sobrang kasikatan ng dalawang magakapatid na ito dumami ang gumaya sa kanila gumawa ng parodi isa na dito si yaya dub na talagang nagbabalik na sa pag da dubsmash maaalala nyo na dito sya nag simulang sumikat nung nag million hit ang kanyang dubsmash ngayon naman ang viral ay ang magkapatid na bilog bunak mapapanood nyo dito ngayon ang soundtrack link'\n",
      " 'grabe ibang klase talaga si vice ganda kung magpatawa ang dami nya talagang gimik sa tv ngayon naman na dare sya ng mor radio station para prank si mr ogi diaz nakaktuwa talaga ang mga linya ni vice ganda talagang lika na creativ talaga si vice parang normal na lang sa kanya ang ganito may watch video link']\n"
     ]
    }
   ],
   "source": [
    "print(X)"
   ]
  },
  {
   "cell_type": "code",
   "execution_count": 131,
   "id": "628d4382-1030-4cfe-9f8f-7802e6da0562",
   "metadata": {},
   "outputs": [
    {
     "name": "stdout",
     "output_type": "stream",
     "text": [
      "[0 0 0 ... 1 1 1]\n"
     ]
    }
   ],
   "source": [
    "print(Y)"
   ]
  },
  {
   "cell_type": "code",
   "execution_count": 132,
   "id": "61907182-dda8-404c-ae70-b1b5dd1baee8",
   "metadata": {},
   "outputs": [
    {
     "data": {
      "text/plain": [
       "(3206,)"
      ]
     },
     "execution_count": 132,
     "metadata": {},
     "output_type": "execute_result"
    }
   ],
   "source": [
    "Y.shape"
   ]
  },
  {
   "cell_type": "code",
   "execution_count": 32,
   "id": "0be79e5e-613c-47a9-a5c1-132b7b4465a6",
   "metadata": {},
   "outputs": [
    {
     "data": {
      "text/plain": [
       "<Axes: xlabel='label', ylabel='count'>"
      ]
     },
     "execution_count": 32,
     "metadata": {},
     "output_type": "execute_result"
    },
    {
     "data": {
      "image/png": "[encoded data removed]",
      "text/plain": [
       "<Figure size 640x480 with 1 Axes>"
      ]
     },
     "metadata": {},
     "output_type": "display_data"
    }
   ],
   "source": [
    "def create_distribution(dataFile):\n",
    "    return sb.countplot(x='label', data=dataFile, palette='hls')\n",
    "\n",
    "# by calling below we can see that training, test and valid data seems to be failry evenly distributed between the classes\n",
    "create_distribution(news_dataset)"
   ]
  },
  {
   "cell_type": "markdown",
   "id": "e74eecc9-9c19-4dc3-836b-45011eadac95",
   "metadata": {},
   "source": [
    "### <font color=orange> TF-IDF Vectorizer"
   ]
  },
  {
   "cell_type": "code",
   "execution_count": 36,
   "id": "0e601e2b-1266-4669-8121-c0c8c18fb673",
   "metadata": {},
   "outputs": [],
   "source": [
    "# converting the textual data to numerical data\n",
    "vectorizer = TfidfVectorizer()\n",
    "vectorizer.fit(X)\n",
    "\n",
    "X = vectorizer.transform(X)"
   ]
  },
  {
   "cell_type": "code",
   "execution_count": 37,
   "id": "b8053881-64eb-4c09-9dc0-96d302635f8a",
   "metadata": {},
   "outputs": [
    {
     "name": "stdout",
     "output_type": "stream",
     "text": [
      "  (0, 33438)\t0.056586919032274474\n",
      "  (0, 33425)\t0.06102796906598855\n",
      "  (0, 33042)\t0.05245042447593645\n",
      "  (0, 32266)\t0.07602923392006698\n",
      "  (0, 32053)\t0.06631295487517427\n",
      "  (0, 31122)\t0.08549093898435971\n",
      "  (0, 30544)\t0.06721167612667434\n",
      "  (0, 30453)\t0.0690716934551693\n",
      "  (0, 30103)\t0.201635028380023\n",
      "  (0, 30023)\t0.06057447881438142\n",
      "  (0, 29888)\t0.0663950923616471\n",
      "  (0, 29882)\t0.16118196057545875\n",
      "  (0, 29551)\t0.0813544444280217\n",
      "  (0, 29470)\t0.024984597684209287\n",
      "  (0, 29458)\t0.05932370821097343\n",
      "  (0, 29186)\t0.09471958205104092\n",
      "  (0, 29047)\t0.07733720272878898\n",
      "  (0, 28712)\t0.05752929786643764\n",
      "  (0, 28110)\t0.11466118202089924\n",
      "  (0, 27807)\t0.0699067380378554\n",
      "  (0, 27789)\t0.07271043803387951\n",
      "  (0, 27518)\t0.05467701480316709\n",
      "  (0, 27331)\t0.05306890782532698\n",
      "  (0, 26201)\t0.0541911205512738\n",
      "  (0, 25272)\t0.03882041991629\n",
      "  :\t:\n",
      "  (3205, 20854)\t0.048574091482072125\n",
      "  (3205, 20361)\t0.2164103297344587\n",
      "  (3205, 18787)\t0.08100835091760125\n",
      "  (3205, 18659)\t0.1167077794698881\n",
      "  (3205, 18583)\t0.2164103297344587\n",
      "  (3205, 18151)\t0.0324013602515464\n",
      "  (3205, 17907)\t0.048612984251778506\n",
      "  (3205, 15694)\t0.20593927676069648\n",
      "  (3205, 14495)\t0.16615760059579215\n",
      "  (3205, 14491)\t0.1491964042312005\n",
      "  (3205, 14410)\t0.17013851017872494\n",
      "  (3205, 14043)\t0.05649384280771612\n",
      "  (3205, 13765)\t0.05032252808627294\n",
      "  (3205, 13311)\t0.15017104043454585\n",
      "  (3205, 12520)\t0.08510403079643748\n",
      "  (3205, 9495)\t0.08332763483377922\n",
      "  (3205, 8231)\t0.14480879657051568\n",
      "  (3205, 8000)\t0.1806095631524872\n",
      "  (3205, 7782)\t0.11927811078692432\n",
      "  (3205, 7772)\t0.29470198238467304\n",
      "  (3205, 5647)\t0.1680714237255316\n",
      "  (3205, 5229)\t0.1680714237255316\n",
      "  (3205, 5172)\t0.1228124710155122\n",
      "  (3205, 4904)\t0.17756784049594848\n",
      "  (3205, 1019)\t0.07958032671841919\n"
     ]
    }
   ],
   "source": [
    "print(X)"
   ]
  },
  {
   "cell_type": "markdown",
   "id": "fbd2c7dc-eb39-40a4-b9bc-a611bd3681d8",
   "metadata": {},
   "source": [
    "### Splitting the Dataset"
   ]
  },
  {
   "cell_type": "code",
   "execution_count": 38,
   "id": "bf59c598-9296-4904-b421-0e608a3def7e",
   "metadata": {},
   "outputs": [],
   "source": [
    "X_train, X_test, Y_train, Y_test = train_test_split(X, Y, test_size = 0.2, stratify=Y, random_state=2)"
   ]
  },
  {
   "cell_type": "markdown",
   "id": "81e0f190-6bdf-46e0-bc75-ed8579bd829c",
   "metadata": {},
   "source": [
    "### <font color=pink> Scores Function </font>"
   ]
  },
  {
   "cell_type": "code",
   "execution_count": 87,
   "id": "1f24a158-f3d8-4f0b-b865-15d55c4c58cb",
   "metadata": {},
   "outputs": [],
   "source": [
    "def scores(model, X_train, Y_train, X_test, Y_test):\n",
    "    # Training Set Metrics\n",
    "    X_train_prediction = model.predict(X_train)\n",
    "    cm_train = metrics.confusion_matrix(Y_train, X_train_prediction)\n",
    "    recall_train = metrics.recall_score(Y_train, X_train_prediction)\n",
    "    f1_train = metrics.f1_score(Y_train, X_train_prediction)\n",
    "    accuracy_train = metrics.accuracy_score(Y_train, X_train_prediction)   \n",
    "\n",
    "    # Testing Set Metrics\n",
    "    X_test_prediction = model.predict(X_test)\n",
    "    cm_test = metrics.confusion_matrix(Y_test, X_test_prediction)\n",
    "    recall_test = metrics.recall_score(Y_test, X_test_prediction)\n",
    "    f1_test = metrics.f1_score(Y_test, X_test_prediction)\n",
    "    accuracy_test = metrics.accuracy_score(Y_test, X_test_prediction)  \n",
    "\n",
    "    # Return results in a dictionary\n",
    "    return {\n",
    "        'Training Set': {\n",
    "            'Accuracy': accuracy_train, \n",
    "            'Confusion Matrix': cm_train,\n",
    "            'Recall': recall_train,\n",
    "            'F1-Score': f1_train,\n",
    "        },\n",
    "        'Testing Set': {\n",
    "            'Accuracy': accuracy_test,  \n",
    "            'Confusion Matrix': cm_test,\n",
    "            'Recall': recall_test,\n",
    "            'F1-Score': f1_test,\n",
    "        }\n",
    "    }\n",
    "def print_scores_table(scores_dict):\n",
    "    print('Evaluation Metrics:')\n",
    "    for dataset, metrics in scores_dict.items():\n",
    "        print(f\"\\n{dataset}:\")\n",
    "        print(\"Accuracy:\", metrics['Accuracy']) \n",
    "        print(\"Confusion Matrix:\\n\", metrics['Confusion Matrix'])\n",
    "        print(\"Recall:\", metrics['Recall'])\n",
    "        print(\"F1-Score:\", metrics['F1-Score'])"
   ]
  },
  {
   "cell_type": "markdown",
   "id": "8adb5cf9-341f-4597-84f5-bf6a94e2a764",
   "metadata": {},
   "source": [
    "### <font color=pink> Confusion Matrix Plot Function </font>"
   ]
  },
  {
   "cell_type": "code",
   "execution_count": 140,
   "id": "035b1fdc-7a89-43b1-b6c1-64f2aa93a1ab",
   "metadata": {},
   "outputs": [],
   "source": [
    "def plot_confusion_matrix(cm, classes,\n",
    "                          normalize=False,\n",
    "                          title='Confusion matrix',\n",
    "                          cmap=plt.cm.Blues):\n",
    "    \n",
    "    plt.imshow(cm, interpolation='nearest', cmap=cmap)\n",
    "    plt.title(title)\n",
    "    plt.colorbar()\n",
    "    tick_marks = np.arange(len(classes))\n",
    "    plt.xticks(tick_marks, classes, rotation=45)\n",
    "    plt.yticks(tick_marks, classes)\n",
    "\n",
    "    if normalize:\n",
    "        cm = cm.astype('float') / cm.sum(axis=1)[:, np.newaxis]\n",
    "        print(\"Normalized confusion matrix\")\n",
    "    else:\n",
    "        print('Confusion matrix, without normalization')\n",
    "\n",
    "    thresh = cm.max() / 2.\n",
    "    for i, j in itertools.product(range(cm.shape[0]), range(cm.shape[1])):\n",
    "        plt.text(j, i, cm[i, j],\n",
    "                 horizontalalignment=\"center\",\n",
    "                 color=\"white\" if cm[i, j] > thresh else \"black\")\n",
    "\n",
    "    plt.tight_layout()\n",
    "    plt.ylabel('True label')\n",
    "    plt.xlabel('Predicted label')"
   ]
  },
  {
   "cell_type": "markdown",
   "id": "a2be39d8-e97e-42a6-a833-8c84c4ecb960",
   "metadata": {},
   "source": [
    "## Training the model"
   ]
  },
  {
   "cell_type": "markdown",
   "id": "66f3acad-31f0-42fd-a177-88493fe1e9f7",
   "metadata": {},
   "source": [
    "## <font color=violet> Logistic Regression</font>"
   ]
  },
  {
   "cell_type": "code",
   "execution_count": 72,
   "id": "a8e5130d-b8fa-4b7e-b993-9e31775c8911",
   "metadata": {},
   "outputs": [],
   "source": [
    "LR_model = LogisticRegression()"
   ]
  },
  {
   "cell_type": "code",
   "execution_count": 73,
   "id": "16631a8e-02d6-4f88-a3be-56e6911a7db9",
   "metadata": {},
   "outputs": [],
   "source": [
    "LR_model = LR_model.fit(X_train, Y_train) "
   ]
  },
  {
   "cell_type": "markdown",
   "id": "420dc8b5-f062-45cb-8258-52df7da16e7d",
   "metadata": {},
   "source": [
    "### <font color=purple> Performance Evaluation</font>"
   ]
  },
  {
   "cell_type": "code",
   "execution_count": 141,
   "id": "e6f75379-13fc-4f1a-acdd-77d298744a7a",
   "metadata": {},
   "outputs": [
    {
     "name": "stdout",
     "output_type": "stream",
     "text": [
      "Evaluation Metrics:\n",
      "\n",
      "Training Set:\n",
      "Accuracy: 0.9699687987519501\n",
      "Confusion Matrix:\n",
      " [[1266   16]\n",
      " [  61 1221]]\n",
      "Recall: 0.9524180967238689\n",
      "F1-Score: 0.9694323144104803\n",
      "\n",
      "Testing Set:\n",
      "Accuracy: 0.9236760124610592\n",
      "Confusion Matrix:\n",
      " [[312   9]\n",
      " [ 40 281]]\n",
      "Recall: 0.8753894080996885\n",
      "F1-Score: 0.9198036006546645\n"
     ]
    }
   ],
   "source": [
    "LR_evaluation_scores = scores(LR_model, X_train, Y_train, X_test, Y_test)\n",
    "print_scores_table(LR_evaluation_scores)"
   ]
  },
  {
   "cell_type": "code",
   "execution_count": 75,
   "id": "6d6bc5bc-3d2c-4ab7-86b8-af48365b1f5e",
   "metadata": {},
   "outputs": [
    {
     "name": "stdout",
     "output_type": "stream",
     "text": [
      "Accuracy: 92.37%\n",
      "Confusion matrix, without normalization\n"
     ]
    },
    {
     "data": {
      "image/png": "[encoded data removed]",
      "text/plain": [
       "<Figure size 640x480 with 2 Axes>"
      ]
     },
     "metadata": {},
     "output_type": "display_data"
    }
   ],
   "source": [
    "#accuracy score on the test data\n",
    "Y_pred = LR_model.predict(X_test)\n",
    "score = metrics.accuracy_score(Y_test, Y_pred)\n",
    "print(f'Accuracy: {round(score*100,2)}%')\n",
    "cm = metrics.confusion_matrix(Y_test, Y_pred)\n",
    "plot_confusion_matrix(cm, classes=['Fake Data', 'Real Data'])"
   ]
  },
  {
   "cell_type": "markdown",
   "id": "cb1d6924-dae9-48d6-beca-5d8b012802b6",
   "metadata": {},
   "source": [
    "### <font color=green> Making a Predictive Model</font>"
   ]
  },
  {
   "cell_type": "code",
   "execution_count": 36,
   "id": "5ec3d2d6-a01b-4d49-94ef-110104968248",
   "metadata": {},
   "outputs": [
    {
     "name": "stdout",
     "output_type": "stream",
     "text": [
      "[1]\n",
      "The news is Fake\n"
     ]
    }
   ],
   "source": [
    "X_new_LR = X_test[2]\n",
    "\n",
    "prediction_LR = LR_model.predict(X_new_LR)\n",
    "print(prediction_LR)\n",
    "\n",
    "if (prediction_LR[0]==0):\n",
    "  print('The news is Real')\n",
    "else:\n",
    "  print('The news is Fake')"
   ]
  },
  {
   "cell_type": "markdown",
   "id": "7af22244-0c35-4b37-afc9-0028216e5d16",
   "metadata": {},
   "source": [
    "### <font color=violet> K-Nearest Neighbors Classifier</font>"
   ]
  },
  {
   "cell_type": "code",
   "execution_count": 78,
   "id": "31a02562-a87e-495b-9ed6-8fb3d93a323a",
   "metadata": {},
   "outputs": [],
   "source": [
    "KNN_model = KNeighborsClassifier()"
   ]
  },
  {
   "cell_type": "code",
   "execution_count": 79,
   "id": "a6b34101-8081-4e58-a0cc-384fb931aa31",
   "metadata": {},
   "outputs": [],
   "source": [
    "KNN_model = KNN_model.fit(X_train, Y_train) "
   ]
  },
  {
   "cell_type": "markdown",
   "id": "c43d259e-efdf-4c43-9f66-d50439ed515c",
   "metadata": {},
   "source": [
    "### <font color=purple> Performance Evaluation</font>"
   ]
  },
  {
   "cell_type": "code",
   "execution_count": 88,
   "id": "488fcb22-b82a-423c-94a0-46ee8c53a3da",
   "metadata": {},
   "outputs": [
    {
     "name": "stdout",
     "output_type": "stream",
     "text": [
      "Evaluation Metrics:\n",
      "\n",
      "Training Set:\n",
      "Accuracy: 0.9110764430577223\n",
      "Confusion Matrix:\n",
      " [[1099  183]\n",
      " [  45 1237]]\n",
      "Recall: 0.9648985959438378\n",
      "F1-Score: 0.9156180606957809\n",
      "\n",
      "Testing Set:\n",
      "Accuracy: 0.8551401869158879\n",
      "Confusion Matrix:\n",
      " [[241  80]\n",
      " [ 13 308]]\n",
      "Recall: 0.9595015576323987\n",
      "F1-Score: 0.8688293370944993\n"
     ]
    }
   ],
   "source": [
    "KNN_evaluation_scores = scores(KNN_model, X_train, Y_train, X_test, Y_test)\n",
    "print_scores_table(KNN_evaluation_scores)"
   ]
  },
  {
   "cell_type": "code",
   "execution_count": 81,
   "id": "cfdad354-f81e-4b82-9b02-0133b7b4be69",
   "metadata": {},
   "outputs": [
    {
     "name": "stdout",
     "output_type": "stream",
     "text": [
      "Accuracy: 85.51%\n",
      "Confusion matrix, without normalization\n"
     ]
    },
    {
     "data": {
      "image/png": "[encoded data removed]",
      "text/plain": [
       "<Figure size 640x480 with 2 Axes>"
      ]
     },
     "metadata": {},
     "output_type": "display_data"
    }
   ],
   "source": [
    "#accuracy score on the test data\n",
    "Y_pred = KNN_model.predict(X_test)\n",
    "score = metrics.accuracy_score(Y_test, Y_pred)\n",
    "print(f'Accuracy: {round(score*100,2)}%')\n",
    "cm = metrics.confusion_matrix(Y_test, Y_pred)\n",
    "plot_confusion_matrix(cm, classes=['Fake Data', 'Real Data'])"
   ]
  },
  {
   "cell_type": "markdown",
   "id": "9564bff4-13db-4815-afda-c55c1d69abf4",
   "metadata": {},
   "source": [
    "### <font color=green> Making a Predictive Model</font>"
   ]
  },
  {
   "cell_type": "code",
   "execution_count": 82,
   "id": "ae16c3b5-3291-412c-ab73-43783faa69d3",
   "metadata": {},
   "outputs": [
    {
     "name": "stdout",
     "output_type": "stream",
     "text": [
      "[0]\n",
      "The news is Real\n"
     ]
    }
   ],
   "source": [
    "X_new_KNN = X_test[3]\n",
    "\n",
    "prediction_KNN = KNN_model.predict(X_new_KNN)\n",
    "print(prediction_KNN)\n",
    "\n",
    "if (prediction_KNN[0]==0):\n",
    "  print('The news is Real')\n",
    "else:\n",
    "  print('The news is Fake')"
   ]
  },
  {
   "cell_type": "markdown",
   "id": "1cd373c9-507a-4230-972e-63effb247990",
   "metadata": {},
   "source": [
    "### <font color=violet> Support Vector Machine </font>"
   ]
  },
  {
   "cell_type": "code",
   "execution_count": 83,
   "id": "ab9b885d-fa7a-45da-ae9f-eee14e637b8e",
   "metadata": {},
   "outputs": [],
   "source": [
    "SVM_model = svm.SVC(probability=True)"
   ]
  },
  {
   "cell_type": "code",
   "execution_count": 84,
   "id": "2c0c3d40-2cb9-4153-8a31-316446fe13d3",
   "metadata": {},
   "outputs": [],
   "source": [
    "SVM_model = SVM_model.fit(X_train, Y_train) "
   ]
  },
  {
   "cell_type": "markdown",
   "id": "a33fdb7e-9a42-4c5f-92d1-9036fc7e2598",
   "metadata": {},
   "source": [
    "### <font color=purple> Performance Evaluation</font>"
   ]
  },
  {
   "cell_type": "code",
   "execution_count": 85,
   "id": "bc3de18b-0f23-419b-800c-b349a20c5661",
   "metadata": {},
   "outputs": [
    {
     "name": "stdout",
     "output_type": "stream",
     "text": [
      "Evaluation Metrics:\n",
      "\n",
      "Training Set:\n",
      "Accuracy: 0.999609984399376\n",
      "Recall: 0.999219968798752\n",
      "F1-Score: 0.999609832227858\n",
      "\n",
      "Testing Set:\n",
      "Accuracy: 0.9330218068535826\n",
      "Recall: 0.881619937694704\n",
      "F1-Score: 0.9293924466338259\n"
     ]
    }
   ],
   "source": [
    "SVM_evaluation_scores = scores(SVM_model, X_train, Y_train, X_test, Y_test)\n",
    "print_scores_table(SVM_evaluation_scores)"
   ]
  },
  {
   "cell_type": "code",
   "execution_count": 86,
   "id": "6ab97eb3-634d-4820-bdd9-8ebd846444dc",
   "metadata": {},
   "outputs": [
    {
     "name": "stdout",
     "output_type": "stream",
     "text": [
      "Accuracy: 93.3%\n",
      "Confusion matrix, without normalization\n"
     ]
    },
    {
     "data": {
      "image/png": "[encoded data removed]",
      "text/plain": [
       "<Figure size 640x480 with 2 Axes>"
      ]
     },
     "metadata": {},
     "output_type": "display_data"
    }
   ],
   "source": [
    "#accuracy score on the test data\n",
    "Y_pred = SVM_model.predict(X_test)\n",
    "score = metrics.accuracy_score(Y_test, Y_pred)\n",
    "print(f'Accuracy: {round(score*100,2)}%')\n",
    "cm = metrics.confusion_matrix(Y_test, Y_pred)\n",
    "plot_confusion_matrix(cm, classes=['Fake Data', 'Real Data'])"
   ]
  },
  {
   "cell_type": "markdown",
   "id": "9b99b6e1-e8ef-40e6-8da3-cf11385e3059",
   "metadata": {},
   "source": [
    "### <font color=green> Making a Predictive Model</font>"
   ]
  },
  {
   "cell_type": "code",
   "execution_count": 48,
   "id": "d8b48c27-d1cf-4ac1-9fce-9588c0c6f868",
   "metadata": {},
   "outputs": [
    {
     "name": "stdout",
     "output_type": "stream",
     "text": [
      "[1]\n",
      "The news is Fake\n"
     ]
    }
   ],
   "source": [
    "X_new_SVM = X_test[2]\n",
    "\n",
    "prediction_SVM = SVM_model.predict(X_new_SVM)\n",
    "print(prediction_SVM)\n",
    "\n",
    "if (prediction_SVM[0]==0):\n",
    "  print('The news is Real')\n",
    "else:\n",
    "  print('The news is Fake')"
   ]
  },
  {
   "cell_type": "markdown",
   "id": "29444f7c-bb7d-4cee-9458-63cfaf1eaabc",
   "metadata": {},
   "source": [
    "### <font color=violet> Decision Tree</font>"
   ]
  },
  {
   "cell_type": "code",
   "execution_count": 49,
   "id": "2ea229fa-102a-498c-889e-aa65da62ad2d",
   "metadata": {},
   "outputs": [],
   "source": [
    "# applying Pre-Pruning techniques to control tree complexity during the growth phase\n",
    "DT_model = tree.DecisionTreeClassifier(           \n",
    "      max_depth=3,          # limiting the depth of the tree\n",
    "      min_samples_split=5,  # minimum samples to create a split\n",
    "      min_samples_leaf=2    # minimum samples in a leaf node \n",
    ")"
   ]
  },
  {
   "cell_type": "code",
   "execution_count": 50,
   "id": "c660cdd5-6588-4807-803e-619894796bca",
   "metadata": {},
   "outputs": [],
   "source": [
    "DT_model = DT_model.fit(X_train, Y_train) "
   ]
  },
  {
   "cell_type": "markdown",
   "id": "26090625-4b14-4373-938b-1861a6719d1d",
   "metadata": {},
   "source": [
    "### <font color=purple> Performance Evaluation</font>"
   ]
  },
  {
   "cell_type": "code",
   "execution_count": 51,
   "id": "db0177c5-2adf-4ded-a50c-f10b822f2946",
   "metadata": {},
   "outputs": [
    {
     "name": "stdout",
     "output_type": "stream",
     "text": [
      "Evaluation Metrics:\n",
      "\n",
      "Training Set:\n",
      "Accuracy: 0.9017160686427457\n",
      "Confusion Matrix:\n",
      " [[1183   99]\n",
      " [ 153 1129]]\n",
      "Recall: 0.8806552262090483\n",
      "F1-Score: 0.899601593625498\n",
      "\n",
      "Testing Set:\n",
      "Accuracy: 0.9049844236760125\n",
      "Confusion Matrix:\n",
      " [[297  24]\n",
      " [ 37 284]]\n",
      "Recall: 0.8847352024922118\n",
      "F1-Score: 0.9030206677265501\n"
     ]
    }
   ],
   "source": [
    "DT_evaluation_scores = scores(DT_model, X_train, Y_train, X_test, Y_test)\n",
    "print_scores_table(DT_evaluation_scores)"
   ]
  },
  {
   "cell_type": "code",
   "execution_count": null,
   "id": "c56fe94c-a999-4513-b538-36c1d107a36c",
   "metadata": {},
   "outputs": [],
   "source": [
    "#accuracy score on the test data\n",
    "Y_pred = KNN_model.predict(X_test)\n",
    "score = metrics.accuracy_score(Y_test, Y_pred)\n",
    "print(f'Accuracy: {round(score*100,2)}%')\n",
    "cm = metrics.confusion_matrix(Y_test, Y_pred)\n",
    "plot_confusion_matrix(cm, classes=['Fake Data', 'Real Data'])"
   ]
  },
  {
   "cell_type": "markdown",
   "id": "ca3de9f0-9a93-4a74-b320-ac72aac32bf5",
   "metadata": {},
   "source": [
    "### <font color=green> Making a Predictive Model</font>"
   ]
  },
  {
   "cell_type": "code",
   "execution_count": 52,
   "id": "ac389595-1384-415a-a22c-a49b827d4150",
   "metadata": {},
   "outputs": [
    {
     "name": "stdout",
     "output_type": "stream",
     "text": [
      "[0]\n",
      "The news is Real\n"
     ]
    }
   ],
   "source": [
    "X_new_DT = X_test[3]\n",
    "prediction_DT = DT_model.predict(X_new_DT)\n",
    "print(prediction_DT)\n",
    "\n",
    "if (prediction_DT[0]==0):\n",
    "  print('The news is Real')\n",
    "else:\n",
    "  print('The news is Fake')"
   ]
  },
  {
   "cell_type": "markdown",
   "id": "71b10199-baa4-4a1b-9199-2725dc68486a",
   "metadata": {},
   "source": [
    "### <font color=violet> Multinomial Naive Bayes</font>"
   ]
  },
  {
   "cell_type": "code",
   "execution_count": 57,
   "id": "ddfa73f3-db9f-436b-b2c0-69860586f726",
   "metadata": {},
   "outputs": [],
   "source": [
    "MNB_model = MultinomialNB() "
   ]
  },
  {
   "cell_type": "code",
   "execution_count": 58,
   "id": "f1bf0602-3fde-4108-818f-487573bfdf18",
   "metadata": {},
   "outputs": [],
   "source": [
    "MNB_model = MNB_model.fit(X_train, Y_train) "
   ]
  },
  {
   "cell_type": "markdown",
   "id": "f1d761f9-0cae-4f99-aabd-3703723bead7",
   "metadata": {},
   "source": [
    "### <font color=purple> Performance Evaluation</font>"
   ]
  },
  {
   "cell_type": "code",
   "execution_count": 59,
   "id": "e7073a24-e4fa-46d7-b214-6cf7d56f8b9a",
   "metadata": {},
   "outputs": [
    {
     "name": "stdout",
     "output_type": "stream",
     "text": [
      "Evaluation Metrics:\n",
      "\n",
      "Training Set:\n",
      "Accuracy: 0.9512480499219969\n",
      "Confusion Matrix:\n",
      " [[1164  118]\n",
      " [   7 1275]]\n",
      "Recall: 0.9945397815912637\n",
      "F1-Score: 0.9532710280373832\n",
      "\n",
      "Testing Set:\n",
      "Accuracy: 0.8535825545171339\n",
      "Confusion Matrix:\n",
      " [[241  80]\n",
      " [ 14 307]]\n",
      "Recall: 0.956386292834891\n",
      "F1-Score: 0.867231638418079\n"
     ]
    }
   ],
   "source": [
    "MNB_evaluation_scores = scores(MNB_model, X_train, Y_train, X_test, Y_test)\n",
    "print_scores_table(MNB_evaluation_scores)"
   ]
  },
  {
   "cell_type": "code",
   "execution_count": null,
   "id": "ba370770-1242-4074-95ed-cb68a18f614f",
   "metadata": {},
   "outputs": [],
   "source": [
    "#accuracy score on the test data\n",
    "Y_pred = KNN_model.predict(X_test)\n",
    "score = metrics.accuracy_score(Y_test, Y_pred)\n",
    "print(f'Accuracy: {round(score*100,2)}%')\n",
    "cm = metrics.confusion_matrix(Y_test, Y_pred)\n",
    "plot_confusion_matrix(cm, classes=['Fake Data', 'Real Data'])"
   ]
  },
  {
   "cell_type": "markdown",
   "id": "41e745d0-7192-4330-96a0-f036596ad302",
   "metadata": {},
   "source": [
    "### <font color=green> Making a Predictive Model</font>"
   ]
  },
  {
   "cell_type": "code",
   "execution_count": 60,
   "id": "5d0fd77f-7a1b-430a-91be-439fef5098ac",
   "metadata": {},
   "outputs": [
    {
     "name": "stdout",
     "output_type": "stream",
     "text": [
      "[0]\n",
      "The news is Real\n"
     ]
    }
   ],
   "source": [
    "X_new_MNB = X_test[3]\n",
    "\n",
    "prediction_MNB = LR_model.predict(X_new_MNB)\n",
    "print(prediction_MNB)\n",
    "\n",
    "if (prediction_MNB[0]==0):\n",
    "  print('The news is Real')\n",
    "else:\n",
    "  print('The news is Fake')"
   ]
  }
 ],
 "metadata": {
  "kernelspec": {
   "display_name": "Python 3 (ipykernel)",
   "language": "python",
   "name": "python3"
  },
  "language_info": {
   "codemirror_mode": {
    "name": "ipython",
    "version": 3
   },
   "file_extension": ".py",
   "mimetype": "text/x-python",
   "name": "python",
   "nbconvert_exporter": "python",
   "pygments_lexer": "ipython3",
   "version": "3.11.7"
  }
 },
 "nbformat": 4,
 "nbformat_minor": 5
}
