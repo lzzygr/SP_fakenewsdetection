{
 "cells": [
  {
   "cell_type": "markdown",
   "id": "2557d841-bc07-4a94-8fad-c7b6bc99d2d8",
   "metadata": {},
   "source": [
    "# Dataset 2"
   ]
  },
  {
   "cell_type": "code",
   "execution_count": 3,
   "id": "5e693f4f-963f-4a56-93e6-cd614cbffdde",
   "metadata": {},
   "outputs": [],
   "source": [
    "import numpy as np\n",
    "import pandas as pd\n",
    "import re\n",
    "import itertools\n",
    "from nltk.corpus import stopwords\n",
    "from nltk.stem.porter import PorterStemmer\n",
    "from sklearn.feature_extraction.text import TfidfVectorizer\n",
    "from sklearn.model_selection import train_test_split\n",
    "from sklearn.neighbors import KNeighborsClassifier\n",
    "from sklearn.model_selection import GridSearchCV\n",
    "from sklearn.linear_model import LogisticRegression\n",
    "from sklearn.naive_bayes import MultinomialNB \n",
    "from sklearn.svm import SVC\n",
    "from sklearn import svm\n",
    "from sklearn import tree\n",
    "import sklearn.metrics as metrics\n",
    "from sklearn.metrics import classification_report\n",
    "from sklearn.metrics import confusion_matrix\n",
    "from sklearn.metrics import confusion_matrix, recall_score, f1_score, accuracy_score, roc_auc_score\n",
    "import matplotlib.pyplot as plt\n",
    "import seaborn as sb\n",
    "import nltk"
   ]
  },
  {
   "cell_type": "markdown",
   "id": "c011d733-57cc-46ae-9ef2-481cc61c7db5",
   "metadata": {},
   "source": [
    "## Exploring the Dataset"
   ]
  },
  {
   "cell_type": "code",
   "execution_count": 4,
   "id": "afe22769-ebfc-4fa5-b313-2ad49838959a",
   "metadata": {},
   "outputs": [],
   "source": [
    "# loading the dataset to a pandas dataframe\n",
    "news_dataset = pd.read_csv('Documents/COLLEGE/THESIS/DATASET/dataset1.csv')"
   ]
  },
  {
   "cell_type": "code",
   "execution_count": 5,
   "id": "cca78449-ba92-400e-af6f-1ff34f40afcc",
   "metadata": {},
   "outputs": [
    {
     "data": {
      "text/plain": [
       "(4594, 4)"
      ]
     },
     "execution_count": 5,
     "metadata": {},
     "output_type": "execute_result"
    }
   ],
   "source": [
    "# number of (rows, columns) = (news articles, features)\n",
    "news_dataset.shape"
   ]
  },
  {
   "cell_type": "code",
   "execution_count": 6,
   "id": "66338877-7bf8-49df-815c-4be96f3b8be6",
   "metadata": {},
   "outputs": [
    {
     "data": {
      "text/html": [
       "<div>\n",
       "<style scoped>\n",
       "    .dataframe tbody tr th:only-of-type {\n",
       "        vertical-align: middle;\n",
       "    }\n",
       "\n",
       "    .dataframe tbody tr th {\n",
       "        vertical-align: top;\n",
       "    }\n",
       "\n",
       "    .dataframe thead th {\n",
       "        text-align: right;\n",
       "    }\n",
       "</style>\n",
       "<table border=\"1\" class=\"dataframe\">\n",
       "  <thead>\n",
       "    <tr style=\"text-align: right;\">\n",
       "      <th></th>\n",
       "      <th>idd</th>\n",
       "      <th>title</th>\n",
       "      <th>text</th>\n",
       "      <th>label</th>\n",
       "    </tr>\n",
       "  </thead>\n",
       "  <tbody>\n",
       "    <tr>\n",
       "      <th>0</th>\n",
       "      <td>Fq+C96tcx+</td>\n",
       "      <td>‘A target on Roe v. Wade ’: Oklahoma bill maki...</td>\n",
       "      <td>UPDATE: Gov. Fallin vetoed the bill on Friday....</td>\n",
       "      <td>REAL</td>\n",
       "    </tr>\n",
       "    <tr>\n",
       "      <th>1</th>\n",
       "      <td>bHUqK!pgmv</td>\n",
       "      <td>Study: women had to drive 4 times farther afte...</td>\n",
       "      <td>Ever since Texas laws closed about half of the...</td>\n",
       "      <td>REAL</td>\n",
       "    </tr>\n",
       "    <tr>\n",
       "      <th>2</th>\n",
       "      <td>4Y4Ubf%aTi</td>\n",
       "      <td>Trump, Clinton clash in dueling DC speeches</td>\n",
       "      <td>Donald Trump and Hillary Clinton, now at the s...</td>\n",
       "      <td>REAL</td>\n",
       "    </tr>\n",
       "    <tr>\n",
       "      <th>3</th>\n",
       "      <td>_CoY89SJ@K</td>\n",
       "      <td>Grand jury in Texas indicts activists behind P...</td>\n",
       "      <td>A Houston grand jury investigating criminal al...</td>\n",
       "      <td>REAL</td>\n",
       "    </tr>\n",
       "    <tr>\n",
       "      <th>4</th>\n",
       "      <td>+rJHoRQVLe</td>\n",
       "      <td>As Reproductive Rights Hang In The Balance, De...</td>\n",
       "      <td>WASHINGTON -- Forty-three years after the Supr...</td>\n",
       "      <td>REAL</td>\n",
       "    </tr>\n",
       "  </tbody>\n",
       "</table>\n",
       "</div>"
      ],
      "text/plain": [
       "          idd                                              title  \\\n",
       "0  Fq+C96tcx+  ‘A target on Roe v. Wade ’: Oklahoma bill maki...   \n",
       "1  bHUqK!pgmv  Study: women had to drive 4 times farther afte...   \n",
       "2  4Y4Ubf%aTi        Trump, Clinton clash in dueling DC speeches   \n",
       "3  _CoY89SJ@K  Grand jury in Texas indicts activists behind P...   \n",
       "4  +rJHoRQVLe  As Reproductive Rights Hang In The Balance, De...   \n",
       "\n",
       "                                                text label  \n",
       "0  UPDATE: Gov. Fallin vetoed the bill on Friday....  REAL  \n",
       "1  Ever since Texas laws closed about half of the...  REAL  \n",
       "2  Donald Trump and Hillary Clinton, now at the s...  REAL  \n",
       "3  A Houston grand jury investigating criminal al...  REAL  \n",
       "4  WASHINGTON -- Forty-three years after the Supr...  REAL  "
      ]
     },
     "execution_count": 6,
     "metadata": {},
     "output_type": "execute_result"
    }
   ],
   "source": [
    "# print the first 5 rows of the dataframe\n",
    "news_dataset.head()"
   ]
  },
  {
   "cell_type": "markdown",
   "id": "d6b5bd5d-b05e-4301-8878-c55b6f82e095",
   "metadata": {},
   "source": [
    "## Initializing Dataset"
   ]
  },
  {
   "cell_type": "code",
   "execution_count": 7,
   "id": "851558b1-08ce-4892-a508-3877a49120a1",
   "metadata": {},
   "outputs": [],
   "source": [
    "# replacing values in the 'label' column\n",
    "news_dataset['label'] = news_dataset['label'].replace({'REAL': 0, 'FAKE': 1})"
   ]
  },
  {
   "cell_type": "code",
   "execution_count": 8,
   "id": "54814bd0-905f-4430-b8ec-9a0c6bf786fb",
   "metadata": {},
   "outputs": [],
   "source": [
    "#removing the 'idd' column\n",
    "news_dataset.drop('idd', axis=1, inplace=True)"
   ]
  },
  {
   "cell_type": "code",
   "execution_count": 9,
   "id": "05143d12-cd8f-4812-b4f8-4790189024f8",
   "metadata": {},
   "outputs": [
    {
     "data": {
      "text/html": [
       "<div>\n",
       "<style scoped>\n",
       "    .dataframe tbody tr th:only-of-type {\n",
       "        vertical-align: middle;\n",
       "    }\n",
       "\n",
       "    .dataframe tbody tr th {\n",
       "        vertical-align: top;\n",
       "    }\n",
       "\n",
       "    .dataframe thead th {\n",
       "        text-align: right;\n",
       "    }\n",
       "</style>\n",
       "<table border=\"1\" class=\"dataframe\">\n",
       "  <thead>\n",
       "    <tr style=\"text-align: right;\">\n",
       "      <th></th>\n",
       "      <th>title</th>\n",
       "      <th>text</th>\n",
       "      <th>label</th>\n",
       "    </tr>\n",
       "  </thead>\n",
       "  <tbody>\n",
       "    <tr>\n",
       "      <th>0</th>\n",
       "      <td>‘A target on Roe v. Wade ’: Oklahoma bill maki...</td>\n",
       "      <td>UPDATE: Gov. Fallin vetoed the bill on Friday....</td>\n",
       "      <td>0</td>\n",
       "    </tr>\n",
       "    <tr>\n",
       "      <th>1</th>\n",
       "      <td>Study: women had to drive 4 times farther afte...</td>\n",
       "      <td>Ever since Texas laws closed about half of the...</td>\n",
       "      <td>0</td>\n",
       "    </tr>\n",
       "    <tr>\n",
       "      <th>2</th>\n",
       "      <td>Trump, Clinton clash in dueling DC speeches</td>\n",
       "      <td>Donald Trump and Hillary Clinton, now at the s...</td>\n",
       "      <td>0</td>\n",
       "    </tr>\n",
       "    <tr>\n",
       "      <th>3</th>\n",
       "      <td>Grand jury in Texas indicts activists behind P...</td>\n",
       "      <td>A Houston grand jury investigating criminal al...</td>\n",
       "      <td>0</td>\n",
       "    </tr>\n",
       "    <tr>\n",
       "      <th>4</th>\n",
       "      <td>As Reproductive Rights Hang In The Balance, De...</td>\n",
       "      <td>WASHINGTON -- Forty-three years after the Supr...</td>\n",
       "      <td>0</td>\n",
       "    </tr>\n",
       "  </tbody>\n",
       "</table>\n",
       "</div>"
      ],
      "text/plain": [
       "                                               title  \\\n",
       "0  ‘A target on Roe v. Wade ’: Oklahoma bill maki...   \n",
       "1  Study: women had to drive 4 times farther afte...   \n",
       "2        Trump, Clinton clash in dueling DC speeches   \n",
       "3  Grand jury in Texas indicts activists behind P...   \n",
       "4  As Reproductive Rights Hang In The Balance, De...   \n",
       "\n",
       "                                                text  label  \n",
       "0  UPDATE: Gov. Fallin vetoed the bill on Friday....      0  \n",
       "1  Ever since Texas laws closed about half of the...      0  \n",
       "2  Donald Trump and Hillary Clinton, now at the s...      0  \n",
       "3  A Houston grand jury investigating criminal al...      0  \n",
       "4  WASHINGTON -- Forty-three years after the Supr...      0  "
      ]
     },
     "execution_count": 9,
     "metadata": {},
     "output_type": "execute_result"
    }
   ],
   "source": [
    "news_dataset.head()"
   ]
  },
  {
   "cell_type": "code",
   "execution_count": 12,
   "id": "0508983d-679e-4e39-9066-a7a2f997b563",
   "metadata": {},
   "outputs": [
    {
     "data": {
      "image/png": "[encoded data removed]",
      "text/plain": [
       "<Figure size 640x480 with 1 Axes>"
      ]
     },
     "metadata": {},
     "output_type": "display_data"
    }
   ],
   "source": [
    "news_dataset['label'].value_counts().plot(kind='bar')\n",
    "plt.title('Distribution of Fake and Non-Fake News')\n",
    "plt.show()"
   ]
  },
  {
   "cell_type": "markdown",
   "id": "d9cab449-b243-460d-9036-24f0aee20512",
   "metadata": {},
   "source": [
    "## Data Cleaning"
   ]
  },
  {
   "cell_type": "markdown",
   "id": "9d10081b-ded2-43d1-aec6-24acf6627c21",
   "metadata": {},
   "source": [
    "### <font color=orange> Handling Missing Values"
   ]
  },
  {
   "cell_type": "code",
   "execution_count": 13,
   "id": "7c8aad5d-b569-4714-b34c-ed72cdebca44",
   "metadata": {},
   "outputs": [
    {
     "data": {
      "text/plain": [
       "title    0\n",
       "text     0\n",
       "label    0\n",
       "dtype: int64"
      ]
     },
     "execution_count": 13,
     "metadata": {},
     "output_type": "execute_result"
    }
   ],
   "source": [
    "# counting the number of missing values in the dataset\n",
    "news_dataset.isnull().sum()"
   ]
  },
  {
   "cell_type": "code",
   "execution_count": 14,
   "id": "0d117a0e-40a0-4213-8f70-8e285b000c68",
   "metadata": {},
   "outputs": [],
   "source": [
    "# replacing the null values with empty string\n",
    "news_dataset = news_dataset.fillna('')"
   ]
  },
  {
   "cell_type": "markdown",
   "id": "f8bc503d-32a1-4983-ae1f-c57fd4bcd606",
   "metadata": {},
   "source": [
    "### <font color=orange>Removing Duplicate Entries"
   ]
  },
  {
   "cell_type": "code",
   "execution_count": 15,
   "id": "998405af-9ebb-4120-a176-480dcf056a83",
   "metadata": {},
   "outputs": [
    {
     "data": {
      "text/plain": [
       "0       False\n",
       "1       False\n",
       "2       False\n",
       "3       False\n",
       "4       False\n",
       "        ...  \n",
       "4589    False\n",
       "4590    False\n",
       "4591    False\n",
       "4592    False\n",
       "4593    False\n",
       "Length: 4594, dtype: bool"
      ]
     },
     "execution_count": 15,
     "metadata": {},
     "output_type": "execute_result"
    }
   ],
   "source": [
    "#checking for duplicated values\n",
    "news_dataset.duplicated(['title', 'text'])"
   ]
  },
  {
   "cell_type": "markdown",
   "id": "42057d41-24ef-4254-89c1-4bec52a9ac27",
   "metadata": {},
   "source": [
    "### <font color=orange> Merging Columns"
   ]
  },
  {
   "cell_type": "code",
   "execution_count": 16,
   "id": "6c43f171-a9eb-4a50-9e4f-21c73e4619bb",
   "metadata": {},
   "outputs": [],
   "source": [
    "# merging the author name and news title\n",
    "news_dataset['content'] = news_dataset['text']+' '+news_dataset['title']"
   ]
  },
  {
   "cell_type": "code",
   "execution_count": 17,
   "id": "b63777a8-f1d1-4908-9124-60a9915bf6bd",
   "metadata": {},
   "outputs": [],
   "source": [
    "# Drop 'text' and 'title' columns\n",
    "news_dataset.drop(columns=['text', 'title'], inplace=True)"
   ]
  },
  {
   "cell_type": "code",
   "execution_count": 18,
   "id": "94d7630b-8253-435e-a0f5-9322158baea0",
   "metadata": {},
   "outputs": [
    {
     "data": {
      "text/html": [
       "<div>\n",
       "<style scoped>\n",
       "    .dataframe tbody tr th:only-of-type {\n",
       "        vertical-align: middle;\n",
       "    }\n",
       "\n",
       "    .dataframe tbody tr th {\n",
       "        vertical-align: top;\n",
       "    }\n",
       "\n",
       "    .dataframe thead th {\n",
       "        text-align: right;\n",
       "    }\n",
       "</style>\n",
       "<table border=\"1\" class=\"dataframe\">\n",
       "  <thead>\n",
       "    <tr style=\"text-align: right;\">\n",
       "      <th></th>\n",
       "      <th>label</th>\n",
       "      <th>content</th>\n",
       "    </tr>\n",
       "  </thead>\n",
       "  <tbody>\n",
       "    <tr>\n",
       "      <th>0</th>\n",
       "      <td>0</td>\n",
       "      <td>UPDATE: Gov. Fallin vetoed the bill on Friday....</td>\n",
       "    </tr>\n",
       "    <tr>\n",
       "      <th>1</th>\n",
       "      <td>0</td>\n",
       "      <td>Ever since Texas laws closed about half of the...</td>\n",
       "    </tr>\n",
       "    <tr>\n",
       "      <th>2</th>\n",
       "      <td>0</td>\n",
       "      <td>Donald Trump and Hillary Clinton, now at the s...</td>\n",
       "    </tr>\n",
       "    <tr>\n",
       "      <th>3</th>\n",
       "      <td>0</td>\n",
       "      <td>A Houston grand jury investigating criminal al...</td>\n",
       "    </tr>\n",
       "    <tr>\n",
       "      <th>4</th>\n",
       "      <td>0</td>\n",
       "      <td>WASHINGTON -- Forty-three years after the Supr...</td>\n",
       "    </tr>\n",
       "  </tbody>\n",
       "</table>\n",
       "</div>"
      ],
      "text/plain": [
       "   label                                            content\n",
       "0      0  UPDATE: Gov. Fallin vetoed the bill on Friday....\n",
       "1      0  Ever since Texas laws closed about half of the...\n",
       "2      0  Donald Trump and Hillary Clinton, now at the s...\n",
       "3      0  A Houston grand jury investigating criminal al...\n",
       "4      0  WASHINGTON -- Forty-three years after the Supr..."
      ]
     },
     "execution_count": 18,
     "metadata": {},
     "output_type": "execute_result"
    }
   ],
   "source": [
    "news_dataset.head()"
   ]
  },
  {
   "cell_type": "markdown",
   "id": "1fd53894-4782-4085-af19-70a6915107ae",
   "metadata": {},
   "source": [
    "## Text Normalization"
   ]
  },
  {
   "cell_type": "markdown",
   "id": "8f592618-aa34-46f3-9641-9e6a2223fb8b",
   "metadata": {},
   "source": [
    "### <font color=orange> Separating Columns"
   ]
  },
  {
   "cell_type": "code",
   "execution_count": 19,
   "id": "5c4bf334-9b82-49f8-8b8f-a7c5ba8111eb",
   "metadata": {},
   "outputs": [],
   "source": [
    "# separating the data & label\n",
    "X = news_dataset.drop(columns='label', axis=1)\n",
    "Y = news_dataset['label']"
   ]
  },
  {
   "cell_type": "code",
   "execution_count": 20,
   "id": "9950bafa-82d4-4191-91bb-6998dff84b25",
   "metadata": {},
   "outputs": [
    {
     "name": "stdout",
     "output_type": "stream",
     "text": [
      "                                                content\n",
      "0     UPDATE: Gov. Fallin vetoed the bill on Friday....\n",
      "1     Ever since Texas laws closed about half of the...\n",
      "2     Donald Trump and Hillary Clinton, now at the s...\n",
      "3     A Houston grand jury investigating criminal al...\n",
      "4     WASHINGTON -- Forty-three years after the Supr...\n",
      "...                                                 ...\n",
      "4589  License DMCA \\nCold War 2.0 has reached unprec...\n",
      "4590  Print \\nSen. Bernie Sanders laid out the ways ...\n",
      "4591  As the pressure to start construction on the D...\n",
      "4592  Tweet Home » Gold » Gold News » Currency Crisi...\n",
      "4593  Written by Eric Margolis   As a former soldier...\n",
      "\n",
      "[4594 rows x 1 columns]\n",
      "0       0\n",
      "1       0\n",
      "2       0\n",
      "3       0\n",
      "4       0\n",
      "       ..\n",
      "4589    1\n",
      "4590    1\n",
      "4591    1\n",
      "4592    1\n",
      "4593    1\n",
      "Name: label, Length: 4594, dtype: int64\n"
     ]
    }
   ],
   "source": [
    "print(X)\n",
    "print(Y)"
   ]
  },
  {
   "cell_type": "markdown",
   "id": "1b0b31bc-44be-45f1-bb81-4783bb7736db",
   "metadata": {},
   "source": [
    "### <font color=orange> Stemming"
   ]
  },
  {
   "cell_type": "code",
   "execution_count": 21,
   "id": "f92de0a8-3fb1-40a7-a472-b870b0f27825",
   "metadata": {},
   "outputs": [],
   "source": [
    "# initialize the Porter Stemmer\n",
    "port_stem = PorterStemmer()"
   ]
  },
  {
   "cell_type": "code",
   "execution_count": 22,
   "id": "98037287-7a40-4f8a-a70a-22cd3be65c84",
   "metadata": {},
   "outputs": [],
   "source": [
    "def stemming(content):\n",
    "    stemmed_content = re.sub('[^a-zA-Z]',' ',content) #removes non alphabets and replaces it with space\n",
    "    stemmed_content = stemmed_content.lower() #lowercasing\n",
    "    stemmed_content = stemmed_content.split() #tokenizing\n",
    "    stemmed_content = [port_stem.stem(word) for word in stemmed_content if not word in stopwords.words('english')] #removing stopwords\n",
    "    stemmed_content = ' '.join(stemmed_content)\n",
    "    return stemmed_content"
   ]
  },
  {
   "cell_type": "code",
   "execution_count": 23,
   "id": "4a4d5968-f1ce-4325-8b43-a9c30116dbe5",
   "metadata": {},
   "outputs": [],
   "source": [
    "news_dataset['content'] = news_dataset['content'].apply(stemming) #stemming"
   ]
  },
  {
   "cell_type": "code",
   "execution_count": 24,
   "id": "790cb8cb-17a9-4c44-880e-2fc55989ee3c",
   "metadata": {},
   "outputs": [
    {
     "name": "stdout",
     "output_type": "stream",
     "text": [
      "0       updat gov fallin veto bill friday head lawmak ...\n",
      "1       ever sinc texa law close half state abort clin...\n",
      "2       donald trump hillari clinton start line gener ...\n",
      "3       houston grand juri investig crimin alleg plan ...\n",
      "4       washington forti three year suprem court estab...\n",
      "                              ...                        \n",
      "4589    licens dmca cold war reach unpreced hyster lev...\n",
      "4590    print sen berni sander laid way would leverag ...\n",
      "4591    pressur start construct dakota access pipelin ...\n",
      "4592    tweet home gold gold news currenc crisi alasda...\n",
      "4593    written eric margoli former soldier war corres...\n",
      "Name: content, Length: 4594, dtype: object\n"
     ]
    }
   ],
   "source": [
    "print(news_dataset['content'])"
   ]
  },
  {
   "cell_type": "markdown",
   "id": "ffa60fd1-ae2d-4741-847b-6ec32164fc3d",
   "metadata": {},
   "source": [
    "## Separating the data and label"
   ]
  },
  {
   "cell_type": "code",
   "execution_count": 25,
   "id": "9ea7c376-4834-4577-8c19-197ecea11b4c",
   "metadata": {},
   "outputs": [],
   "source": [
    "X = news_dataset['content'].values\n",
    "Y = news_dataset['label'].values"
   ]
  },
  {
   "cell_type": "code",
   "execution_count": 26,
   "id": "af7ed1bb-6a41-4647-959e-c03638569787",
   "metadata": {},
   "outputs": [
    {
     "name": "stdout",
     "output_type": "stream",
     "text": [
      "['updat gov fallin veto bill friday head lawmak oklahoma approv bill thursday would make perform abort feloni revok medic licens physician assist procedur sweep measur oppon describ unconstitut unpreced head gov mari fallin r five day includ sunday decid whether sign bill veto allow becom law without signatur accord spokesman governor withhold comment bill bill staff chanc review michael mcnutt spokesman fallin said email oklahoma bill first measur kind accord center reproduct right say state seek ban abort simpli ban procedur rather attach penalti like accord measur known sb person perform induc abort guilti feloni punish one three year state penitentiari legisl also say physician particip abort deem unprofession conduct bill prohibit obtain renew licens practic medicin state howev medic licens strip doctor perform abort deem necessari save mother life ye hospit perform abort c doctor say hospit let talk bill pass oklahoma hous repres vote last month thursday state senat pass vote sinc believ life begin concept protect believ core function state govern defend life begin concept state sen nathan dahm republican repres tulsa counti told associ press dahm said hope oklahoma measur could eventu lead overturn roe v wade suprem court decis recogn woman right abort dahm respond messag seek comment thursday friday dawn laguen execut vice presid plan parenthood feder america said last month oklahoma bill ban abort plain simpl legisl sent fallin thursday reckless danger accord ilys hogu presid naral pro choic america bill put doctor cross hair provid women option exercis fundament right decid start famili hogu said statement creat penalti doctor job perform safe legal medic procedur liberti counsel group rose nation promin last year defend kentucki clerk refus sign sex marriag licens said friday help support legisl oklahoma organ also vow defend court particular bill put target roe v wade mat staver group founder chairman said interview friday oklahoma line sand sanctiti human life stand side protect innoc children staver said group met oklahoma lawmak legisl file offer legal analysi discuss begun state propos measur oklahoma bill first kind staver said though said possibl state may follow oklahoma lead bolt step right direct view staver said challeng prepar defend oklahoma state take big step limit abort oklahoma state medic associ call measur troubl said would take posit legal abort long practic remain legal howev group said oppos legisl design intimid physician overrid medic judgment thursday group reiter opposit call one insult slap face state medic provid urg fallin veto legisl extrem disappoint today vote sherri baker presid medic associ said statement thursday simpli unconscion time state alreadi face sever physician shortag senat would wast time bill patent unconstitut whose purpos score polit point intimid physician across state measur debat state hous repres legisl ultim vote bill point group opposit voic concern law could lead doctor abandon oklahoma one bill co sponsor said think would impact sinc take offic fallin sign dozen bill restrict access reproduct health care center reproduct right nonprofit legal group said thursday new bill blatantli unconstitut take effect extrem abort law countri sinc roe v wade decis amanda allen senior state legisl counsel center wrote letter fallin thursday allen said group urg fallin veto legisl said part larger pattern lawmak state chip away abort right policymak oklahoma focu advanc polici truli promot women health safeti abort restrict opposit allen wrote anti choic politician state method restrict access abort neglect advanc polici truli address challeng women famili face everi day allen also said bill would almost certainli lead expens court challeng state oklahoma simpli cannot defend light longstand suprem court preced fallin next week make decis bill measur becom law would go effect nov forgotten histori justic ginsburg critic roe v wade indiana ban abort fetus syndrom stori first publish thursday updat friday includ liberti counsel comment target roe v wade oklahoma bill make feloni perform abort wait governor decis'\n",
      " 'ever sinc texa law close half state abort clinic research tri understand much burden law place women tri access abort import suprem court consid law part whole woman health v hellerstedt court consequenti abort case decad find law place undu burden women like struck research texa polici evalu project txpep look exactli alreadi found women wait much three week longer appoint women interview abl secur abort due logist financi barrier txpep publish signific studi american journal public health effect hb omnibu anti abort bill court could end partial strike studi show mani burden place women result clinic close law research survey texa women compar women whose nearest abort clinic close mid whose nearest clinic still open april shortli texa legislatur debat hb result strike women survey percent live zip code closest clinic open close one key find women whose nearest clinic close travel averag mile women whose nearest clinic close travel averag mile almost four time far quarter women latter group travel mile get abort case even six month hb went effect abort provid would least time adjust initi chao closur women whose nearest clinic close tougher time everi measur travel farther pay pocket thing like ga hotel child care less like abl access medic abort instead surgic abort want probabl texa law requir four differ doctor visit medic abort lot tougher manag live far away unsurprisingli also like report somewhat hard hard get care women whose nearest clinic close also face burden instanc like travel mile spend trip twenti four percent women closur group report face three differ kind burden compar percent women whose clinic remain open studi look women eventu got desir abort account women abl get one burden high studi unusu abil assess multipl burden impos women result clinic closur import note burden document hardship women experienc result hb said studi author liza fuent statement strang signific differ two group women far along pregnanc abort inconsist txpep research found hb pass small signific increas second trimest abort procedur quit safe lot expens compar first trimest procedur could explain coupl thing research wrote either long wait time forc hb affect everyon equal differ small show studi still clear research said clinic closur hb pass result signific burden women abl obtain care studi women drive time farther texa law close abort clinic'\n",
      " 'donald trump hillari clinton start line gener elect race trade shot across capit friday duel address two differ c audienc warn would take countri backward trump headlin faith freedom coalit road major summit clinton address plan parenthood nation confer trump look solidifi stand evangel christian offer assur friday would restor respect peopl faith stress sanctiti digniti life doubt want throw clinton plan parenthood speech sharp relief took presumpt rival later remark trump warn clinton would appoint radic judg elimin second amend restrict religi freedom govern mandat push feder fund abort demand moment birth also cast support bring syrian refuge potenti clash faith hillari bring hundr thousand refuge mani hostil belief peopl differ faith valu said clinton meanwhil first speech democrat parti presumpt nomine said trump presid would take countri back time abort illeg life mani women girl limit clinton thank nonprofit women health group abort provid support democrat primari race januari plan parenthood back clinton offer first ever primari endors group year histori clinton made clear women issu would stapl campaign promis abort right support would alway back elect presid clinton repeat claim trump want take america back time women less opportun freedom well donald day go let donald trump anybodi els turn back clock told cheer crowd arriv event clinton held privat meet c home massachusett sen elizabeth warren rumor consider run mate echo attack warren made recent day clinton attempt elev import elect middl concert persist assault women health across countri warn clinton said elect profoundli differ previou elect campaign trail stapl clinton highlight trump insult toward women assert would hard imagin depend defend fundament right women trump meanwhil continu call clinton crook hillari refer ongo email scandal took task domest foreign polici stanc trump interrupt protest annual gather evangel christian protest shout stop hate stop trump refuge welcom trump call chant littl freedom speech ad also littl rude trump clinton clash duel dc speech'\n",
      " ...\n",
      " 'pressur start construct dakota access pipelin increas violenc use peac protest mani notic arm indigen peopl pipelin polic strip search nativ girl leav nake jail overnight'\n",
      " 'tweet home gold gold news currenc crisi alasdair macleod vex question dollar littl doubt rapid expans dollar denomin debt monetari quantiti sinc financi crisi lead us currenc crisi know dollar alon alasdair macleod major paper currenc massiv inflat recent year dollar act world reserv currenc dollar goe fiat moni cataclysm event watch currenc behav increasingli unexpect seemingli irrat way fundament japan good yet yen remain strongest currenc big four eurozon risk system collaps overwhelm polit financi headwind yet euro exchang rate prove rel impervi deep uncertainti british economi strongest yet sterl weakest four major noth els today foreign exchang evid subject triumph macroeconom think mackay extraordinari popular delus mad crowd beat comput model everi time furthermor offici attempt establish rate dollar address two separ question valu dollar rel currenc purchas power good servic chart indic dollar behav currenc last five year trade weight predefin currenc basi dxi note dollar risen measur roughli sinc earli time chines yuan fallen dollar actual risen slightli dxi basket whole particularli euro compon gain sinc earli matter far devalu routin told dollar centric analyst yuan rel stabl time basket currenc weak dollar yen strong euro sterl look fed feder open market committe point view america run record trade deficit china major economi china term trade improv us except japan therefor fed bound sensit dollar exchang rate china yuan furthermor two occas fed signal go rais fed fund rate back chines lower rate peg yuan dollar chines devalu dollar obvious prime concern fed situat becom better understood peopl bank posit taken account bank sell us treasuri stock larg quantiti stockpil commod oil proce though diversifi japanes govern bond well china dollar welcom market short qualiti collater raw currenc howev china suppli fail stop dollar rise yuan furthermor china asian middl eastern state sell american paper demand intern player buy side immens enough determin underli direct dollar exchang rate situat exploit peopl bank effect peopl bank posit dictat fed polici adjust rate prepar suppli dollar market long dollar remain fundament strong slow pace treasuri dollar sale dollar rise therefor fed plan interest rate rise defer understood properli western comment erron think china forc defend declin yuan noth could truth interest see whether happen ahead decemb fomc meet umpteenth time promis rise fed fund rate major consider behind china foreign exchang polici outlook euro eurozon repres market larg us ad import tag onto asian contin littl doubt china see long term futur align europ america despit europ current troubl like situat primarili strateg import europ economi need rescu stage therefor futur opportun china intervent plan long term becom increasingli valid deeper hole eurozon dig disintegr eu would also benefici chines ambit meanwhil short term euro broken crucial trend line dollar complet continu head shoulder pattern target area previou low seen march novemb second chart neither peopl bank fed need chart expert see happen brexit bad news euro race certainti event turn start new round polit econom troubl eurozon italian economi particular implod non perform loan problem roughli privat sector gdp china moment steer cours yuan euro devalu dollar rise fed see euro weak increas currenc induc deflat us economi loss competit us export chines export obviou beneficiari well blame deflat china foreign exchang machin anyway china probabl care less ever long term consequ action us economi china sell us treasuri reduc dollar exposur add stockpil raw materi oil want keep indebt busi trade maintain favour exchang rate dollar particularli given develop train wreck eurozon lot fed gold commod princip driver gold price prospect monetari inflat transmut price inflat inabl central bank respond threat rais interest rate suffici control balanc consum prefer good hold money cours measur gold dollar latter reserv currenc other state two exchang consider first dollar currenc second dollar basket commod note long term price commod measur gold consider stabl price commod measur fiat currenc china behav thoroughli awar gold price attribut deliber polici domin market bullion differ us domin gold paper market china invest unprofit gold mine becom largest produc tonn annual state monopolis china refin capac also import dor refin countri without doubt sinc accumul substanti quantiti bullion includ monetari reserv furthermor countri encourag popul televis media accumul physic gold make mistak last thirti three year chines govern made credibl attempt gain ultim control physic gold market extend gold protect citizen china manipul gold price instead describ earlier manipul dollar regul exchang rate discourag fed rais interest rate temporari balanc act continu long desper bank indebt borrow continu scrambl dollar china know fed moment appear powerless manag econom outcom firmli trap china currenc manag interest rate stuck lower bound make wors weak euro dollar index dxi heavili weight threaten forc dxi index even higher result inevit monetari polici cannot use address futur price inflat virtual guarante higher gold price beyond despit american wish think gold remain centr financi system central partli china ensur also china ultim money commod trade purpos china like enough gold fulli compens reserv loss destruct dollar fiat currenc reserv book deliber sell dollar exposur anyway lest forget communist economist china taught capit destroy clearer proof perform us economi dollar intend get caught demis understand understand monetari role gold futur yet determin china china market make decis moment regard ultim insur global currenc failur currenc crisi alasdair macleod vex question dollar'\n",
      " 'written eric margoli former soldier war correspond cover conflict look media hoopla tighten sieg mosul iraq shake head western organ liber mosul one bigger piec polit militari theater seen islam state defend mosul paper tiger blown proport western media writer say year arm mob made someth malcont religi fanat modern day anarchist top cadr former iraqi armi offic militari experi former offic saddam hussain bent reveng us destruct nation lynch late leader rank file militari train littl disciplin degrad commun rag logist fact today islam state ottoman empir use term bashi bazouk collect irregular cut throat scum gutter sent punish terror enemi mean tortur rapin loot arson amaz faux western war isi leisur natur lack lan hesit view isi mostli creat us alli weapon use syria govern afghan mujahadin use us saudi overthrow soviet back afghan govern israel tri tactic help creat hama palestin hezbollah lebanon cultiv split plo isi ad hoc movement want punish west saudi gross carnag inflict arab world western kurdish auxiliari forc sit hour drive mosul town raqqa year instead western mainli us warplan gingerli bomb around target may effort convinc breakaway isi rejoin us led forc fight damascu regim note isi appear ever attack israel though play import role destruct syria report say israel provid logist medic support sieg mosul play western media heroic second stalingrad fool lightli arm fighter mosul raqqa mayb even less leader like long gone heavi weapon air cover poor commun rag tag fighter run ammunit explos quickli encircl mosul least western led soldier back heavi artilleri rocket batteri tank armor vehicl awesom air power western imperi forc compos tough kurdish peshmerga fighter iraqi armi special forc syrian kurd iranian volunt irregular forc least us combat troop call advisor plu small number french canadian british special forc hover background thousand turkish troop support armor artilleri readi liber iraq part ottoman empir us current militari oper syria iraq realiz imperialist fondest dream nativ troop led white offic model old british indian raj washington arm train equip financ nativ auxiliari caught danger dilemma polit movement delight control iraq second largest citi guerilla forc hole urban area highli vulner concentr air attack surround happen right mostli flat fertil crescent tree ground forc total vulner air power recent israel arab war iraq war shown dispers guerilla tactic hope lack air cover forc would best advis dispers across region continu hit run attack otherwis risk destroy mostli bloodi mind young fanat may heed militari logic preced favor make last stand ruin mosul raqqa happen western leader compet claim authorship faux crusad paper tiger isi lewrockwel com relat paper tiger isi dig mosul']\n"
     ]
    }
   ],
   "source": [
    "print(X)"
   ]
  },
  {
   "cell_type": "code",
   "execution_count": 27,
   "id": "628d4382-1030-4cfe-9f8f-7802e6da0562",
   "metadata": {},
   "outputs": [
    {
     "name": "stdout",
     "output_type": "stream",
     "text": [
      "[0 0 0 ... 1 1 1]\n"
     ]
    }
   ],
   "source": [
    "print(Y)"
   ]
  },
  {
   "cell_type": "code",
   "execution_count": 28,
   "id": "61907182-dda8-404c-ae70-b1b5dd1baee8",
   "metadata": {},
   "outputs": [
    {
     "data": {
      "text/plain": [
       "(4594,)"
      ]
     },
     "execution_count": 28,
     "metadata": {},
     "output_type": "execute_result"
    }
   ],
   "source": [
    "Y.shape"
   ]
  },
  {
   "cell_type": "code",
   "execution_count": 29,
   "id": "d5913ee9-d41d-499c-92ad-e8e0b04c4354",
   "metadata": {},
   "outputs": [
    {
     "data": {
      "text/plain": [
       "<Axes: xlabel='label', ylabel='count'>"
      ]
     },
     "execution_count": 29,
     "metadata": {},
     "output_type": "execute_result"
    },
    {
     "data": {
      "image/png": "[encoded data removed]",
      "text/plain": [
       "<Figure size 640x480 with 1 Axes>"
      ]
     },
     "metadata": {},
     "output_type": "display_data"
    }
   ],
   "source": [
    "def create_distribution(dataFile):\n",
    "    return sb.countplot(x='label', data=dataFile, palette='hls')\n",
    "\n",
    "# by calling below we can see that training, test and valid data seems to be failry evenly distributed between the classes\n",
    "create_distribution(news_dataset)"
   ]
  },
  {
   "cell_type": "markdown",
   "id": "e74eecc9-9c19-4dc3-836b-45011eadac95",
   "metadata": {},
   "source": [
    "### <font color=orange> TF-IDF Vectorizer"
   ]
  },
  {
   "cell_type": "code",
   "execution_count": 30,
   "id": "0e601e2b-1266-4669-8121-c0c8c18fb673",
   "metadata": {},
   "outputs": [],
   "source": [
    "# converting the textual data to numerical data\n",
    "vectorizer = TfidfVectorizer()\n",
    "vectorizer.fit(X)\n",
    "\n",
    "X = vectorizer.transform(X)"
   ]
  },
  {
   "cell_type": "code",
   "execution_count": 31,
   "id": "b8053881-64eb-4c09-9dc0-96d302635f8a",
   "metadata": {},
   "outputs": [
    {
     "name": "stdout",
     "output_type": "stream",
     "text": [
      "  (0, 36052)\t0.015706737735804065\n",
      "  (0, 36049)\t0.01667810569713532\n",
      "  (0, 35820)\t0.028926367861810163\n",
      "  (0, 35755)\t0.044325953178851615\n",
      "  (0, 35645)\t0.03953966587737033\n",
      "  (0, 35642)\t0.01517469114223258\n",
      "  (0, 35577)\t0.012332100323765244\n",
      "  (0, 35574)\t0.028307011171975805\n",
      "  (0, 35366)\t0.014931363480328471\n",
      "  (0, 35272)\t0.01170573433527243\n",
      "  (0, 35106)\t0.009926813487458695\n",
      "  (0, 34967)\t0.022055981525144677\n",
      "  (0, 34815)\t0.016083841053248532\n",
      "  (0, 34784)\t0.14364049752243782\n",
      "  (0, 34733)\t0.0190658510264703\n",
      "  (0, 34723)\t0.0400968590843506\n",
      "  (0, 34669)\t0.016763979282186425\n",
      "  (0, 34507)\t0.012761752085330492\n",
      "  (0, 34468)\t0.016030365780757536\n",
      "  (0, 34440)\t0.10848300050240109\n",
      "  (0, 34046)\t0.035287685799980685\n",
      "  (0, 33978)\t0.03959057936017262\n",
      "  (0, 33771)\t0.03501593132806075\n",
      "  (0, 33762)\t0.01998417074268865\n",
      "  (0, 33369)\t0.07903433344846438\n",
      "  :\t:\n",
      "  (4593, 2253)\t0.0326998605503956\n",
      "  (4593, 2239)\t0.029060758167625968\n",
      "  (4593, 2123)\t0.04589917234263127\n",
      "  (4593, 2074)\t0.12753646048465178\n",
      "  (4593, 2047)\t0.06156703865868394\n",
      "  (4593, 1950)\t0.05449300690209911\n",
      "  (4593, 1725)\t0.10099195451974331\n",
      "  (4593, 1707)\t0.05536222807857547\n",
      "  (4593, 1683)\t0.0183306062555459\n",
      "  (4593, 1658)\t0.08994116606620804\n",
      "  (4593, 1654)\t0.059731911086405534\n",
      "  (4593, 1638)\t0.07722551526012086\n",
      "  (4593, 1585)\t0.023607355828334547\n",
      "  (4593, 1527)\t0.06974358432747883\n",
      "  (4593, 1461)\t0.01815775937844252\n",
      "  (4593, 1121)\t0.05095984491129155\n",
      "  (4593, 1048)\t0.04454539182246052\n",
      "  (4593, 969)\t0.03373414670500031\n",
      "  (4593, 849)\t0.024951632485269642\n",
      "  (4593, 591)\t0.12906507712740364\n",
      "  (4593, 446)\t0.09038476077235094\n",
      "  (4593, 404)\t0.03709247795641947\n",
      "  (4593, 403)\t0.02512939381074878\n",
      "  (4593, 283)\t0.017861203512647108\n",
      "  (4593, 262)\t0.021309624911235767\n"
     ]
    }
   ],
   "source": [
    "print(X)"
   ]
  },
  {
   "cell_type": "markdown",
   "id": "fbd2c7dc-eb39-40a4-b9bc-a611bd3681d8",
   "metadata": {},
   "source": [
    "### Spliiting the Dataset"
   ]
  },
  {
   "cell_type": "code",
   "execution_count": 32,
   "id": "bf59c598-9296-4904-b421-0e608a3def7e",
   "metadata": {},
   "outputs": [],
   "source": [
    "X_train, X_test, Y_train, Y_test = train_test_split(X, Y, test_size = 0.2, stratify=Y, random_state=2)"
   ]
  },
  {
   "cell_type": "markdown",
   "id": "81e0f190-6bdf-46e0-bc75-ed8579bd829c",
   "metadata": {},
   "source": [
    "### <font color=pink> Create Scores Function </font>"
   ]
  },
  {
   "cell_type": "code",
   "execution_count": 35,
   "id": "4c772ba8-aff6-4515-83db-14f314013747",
   "metadata": {},
   "outputs": [],
   "source": [
    "def scores(model, X_train, Y_train, X_test, Y_test):\n",
    "    # Training Set Metrics\n",
    "    X_train_prediction = model.predict(X_train)\n",
    "    cm_train = metrics.confusion_matrix(Y_train, X_train_prediction)\n",
    "    recall_train = metrics.recall_score(Y_train, X_train_prediction)\n",
    "    f1_train = metrics.f1_score(Y_train, X_train_prediction)\n",
    "    accuracy_train = metrics.accuracy_score(Y_train, X_train_prediction)   \n",
    "\n",
    "    # Testing Set Metrics\n",
    "    X_test_prediction = model.predict(X_test)\n",
    "    cm_test = metrics.confusion_matrix(Y_test, X_test_prediction)\n",
    "    recall_test = metrics.recall_score(Y_test, X_test_prediction)\n",
    "    f1_test = metrics.f1_score(Y_test, X_test_prediction)\n",
    "    accuracy_test = metrics.accuracy_score(Y_test, X_test_prediction)  \n",
    "\n",
    "    # Return results in a dictionary\n",
    "    return {\n",
    "        'Training Set': {\n",
    "            'Accuracy': accuracy_train, \n",
    "            'Confusion Matrix': cm_train,\n",
    "            'Recall': recall_train,\n",
    "            'F1-Score': f1_train,\n",
    "        },\n",
    "        'Testing Set': {\n",
    "            'Accuracy': accuracy_test,  \n",
    "            'Confusion Matrix': cm_test,\n",
    "            'Recall': recall_test,\n",
    "            'F1-Score': f1_test,\n",
    "        }\n",
    "    }\n",
    "def print_scores_table(scores_dict):\n",
    "    print('Evaluation Metrics:')\n",
    "    for dataset, metrics in scores_dict.items():\n",
    "        print(f\"\\n{dataset}:\")\n",
    "        print(\"Accuracy:\", metrics['Accuracy']) \n",
    "        print(\"Confusion Matrix:\\n\", metrics['Confusion Matrix'])\n",
    "        print(\"Recall:\", metrics['Recall'])\n",
    "        print(\"F1-Score:\", metrics['F1-Score'])"
   ]
  },
  {
   "cell_type": "markdown",
   "id": "125cd054-5a15-4592-be11-e3d709c7cef5",
   "metadata": {},
   "source": [
    "### <font color=pink> Confusion Matrix Plot Function </font>"
   ]
  },
  {
   "cell_type": "code",
   "execution_count": 36,
   "id": "bc7aa3c0-bcf9-4391-9724-d0a362e9f723",
   "metadata": {},
   "outputs": [],
   "source": [
    "def plot_confusion_matrix(cm, classes,\n",
    "                          normalize=False,\n",
    "                          title='Confusion matrix',\n",
    "                          cmap=plt.cm.Blues):\n",
    "    \n",
    "    plt.imshow(cm, interpolation='nearest', cmap=cmap)\n",
    "    plt.title(title)\n",
    "    plt.colorbar()\n",
    "    tick_marks = np.arange(len(classes))\n",
    "    plt.xticks(tick_marks, classes, rotation=45)\n",
    "    plt.yticks(tick_marks, classes)\n",
    "\n",
    "    if normalize:\n",
    "        cm = cm.astype('float') / cm.sum(axis=1)[:, np.newaxis]\n",
    "        print(\"Normalized confusion matrix\")\n",
    "    else:\n",
    "        print('Confusion matrix, without normalization')\n",
    "\n",
    "    thresh = cm.max() / 2.\n",
    "    for i, j in itertools.product(range(cm.shape[0]), range(cm.shape[1])):\n",
    "        plt.text(j, i, cm[i, j],\n",
    "                 horizontalalignment=\"center\",\n",
    "                 color=\"white\" if cm[i, j] > thresh else \"black\")\n",
    "\n",
    "    plt.tight_layout()\n",
    "    plt.ylabel('True label')\n",
    "    plt.xlabel('Predicted label')"
   ]
  },
  {
   "cell_type": "markdown",
   "id": "a2be39d8-e97e-42a6-a833-8c84c4ecb960",
   "metadata": {},
   "source": [
    "## Training the model"
   ]
  },
  {
   "cell_type": "markdown",
   "id": "66f3acad-31f0-42fd-a177-88493fe1e9f7",
   "metadata": {},
   "source": [
    "## <font color=violet> Logistic Regression</font>"
   ]
  },
  {
   "cell_type": "code",
   "execution_count": 37,
   "id": "a8e5130d-b8fa-4b7e-b993-9e31775c8911",
   "metadata": {},
   "outputs": [],
   "source": [
    "LR_model = LogisticRegression()"
   ]
  },
  {
   "cell_type": "code",
   "execution_count": 38,
   "id": "16631a8e-02d6-4f88-a3be-56e6911a7db9",
   "metadata": {},
   "outputs": [],
   "source": [
    "LR_model = LR_model.fit(X_train, Y_train) "
   ]
  },
  {
   "cell_type": "markdown",
   "id": "420dc8b5-f062-45cb-8258-52df7da16e7d",
   "metadata": {},
   "source": [
    "### <font color=purple> Performance Evaluation</font>"
   ]
  },
  {
   "cell_type": "code",
   "execution_count": 39,
   "id": "e6f75379-13fc-4f1a-acdd-77d298744a7a",
   "metadata": {},
   "outputs": [
    {
     "name": "stdout",
     "output_type": "stream",
     "text": [
      "Evaluation Metrics:\n",
      "\n",
      "Training Set:\n",
      "Accuracy: 0.9507482993197279\n",
      "Confusion Matrix:\n",
      " [[1714  123]\n",
      " [  58 1780]]\n",
      "Recall: 0.9684439608269858\n",
      "F1-Score: 0.9516172146484897\n",
      "\n",
      "Testing Set:\n",
      "Accuracy: 0.911860718171926\n",
      "Confusion Matrix:\n",
      " [[404  56]\n",
      " [ 25 434]]\n",
      "Recall: 0.9455337690631809\n",
      "F1-Score: 0.9146469968387777\n"
     ]
    }
   ],
   "source": [
    "LR_evaluation_scores = scores(LR_model, X_train, Y_train, X_test, Y_test)\n",
    "print_scores_table(LR_evaluation_scores)"
   ]
  },
  {
   "cell_type": "code",
   "execution_count": 40,
   "id": "412e245d-6d6a-4806-baaf-1a5bf0a5b04f",
   "metadata": {},
   "outputs": [
    {
     "name": "stdout",
     "output_type": "stream",
     "text": [
      "Accuracy: 91.19%\n",
      "Confusion matrix, without normalization\n"
     ]
    },
    {
     "data": {
      "image/png": "[encoded data removed]",
      "text/plain": [
       "<Figure size 640x480 with 2 Axes>"
      ]
     },
     "metadata": {},
     "output_type": "display_data"
    }
   ],
   "source": [
    "#accuracy score on the test data\n",
    "Y_pred = LR_model.predict(X_test)\n",
    "score = metrics.accuracy_score(Y_test, Y_pred)\n",
    "print(f'Accuracy: {round(score*100,2)}%')\n",
    "cm = metrics.confusion_matrix(Y_test, Y_pred)\n",
    "plot_confusion_matrix(cm, classes=['Fake Data', 'Real Data'])"
   ]
  },
  {
   "cell_type": "markdown",
   "id": "cb1d6924-dae9-48d6-beca-5d8b012802b6",
   "metadata": {},
   "source": [
    "### <font color=green> Making a Predictive Model</font>"
   ]
  },
  {
   "cell_type": "code",
   "execution_count": 44,
   "id": "5ec3d2d6-a01b-4d49-94ef-110104968248",
   "metadata": {},
   "outputs": [
    {
     "name": "stdout",
     "output_type": "stream",
     "text": [
      "[1]\n",
      "The news is Fake\n"
     ]
    }
   ],
   "source": [
    "X_new_LR = X_test[2]\n",
    "\n",
    "prediction_LR = LR_model.predict(X_new_LR)\n",
    "print(prediction_LR)\n",
    "\n",
    "if (prediction_LR[0]==0):\n",
    "  print('The news is Real')\n",
    "else:\n",
    "  print('The news is Fake')"
   ]
  },
  {
   "cell_type": "markdown",
   "id": "7af22244-0c35-4b37-afc9-0028216e5d16",
   "metadata": {},
   "source": [
    "### <font color=violet> K-Nearest Neighbors Classifier</font>"
   ]
  },
  {
   "cell_type": "code",
   "execution_count": 45,
   "id": "31a02562-a87e-495b-9ed6-8fb3d93a323a",
   "metadata": {},
   "outputs": [],
   "source": [
    "KNN_model = KNeighborsClassifier()"
   ]
  },
  {
   "cell_type": "code",
   "execution_count": 46,
   "id": "a6b34101-8081-4e58-a0cc-384fb931aa31",
   "metadata": {},
   "outputs": [],
   "source": [
    "KNN_model = KNN_model.fit(X_train, Y_train) "
   ]
  },
  {
   "cell_type": "markdown",
   "id": "c43d259e-efdf-4c43-9f66-d50439ed515c",
   "metadata": {},
   "source": [
    "### <font color=purple> Performance Evaluation</font>"
   ]
  },
  {
   "cell_type": "code",
   "execution_count": 47,
   "id": "488fcb22-b82a-423c-94a0-46ee8c53a3da",
   "metadata": {},
   "outputs": [
    {
     "name": "stdout",
     "output_type": "stream",
     "text": [
      "Evaluation Metrics:\n",
      "\n",
      "Training Set:\n",
      "Accuracy: 0.8965986394557823\n",
      "Confusion Matrix:\n",
      " [[1783   54]\n",
      " [ 326 1512]]\n",
      "Recall: 0.8226332970620239\n",
      "F1-Score: 0.8883666274970623\n",
      "\n",
      "Testing Set:\n",
      "Accuracy: 0.8596300326441785\n",
      "Confusion Matrix:\n",
      " [[441  19]\n",
      " [110 349]]\n",
      "Recall: 0.7603485838779956\n",
      "F1-Score: 0.8440145102781138\n"
     ]
    }
   ],
   "source": [
    "KNN_evaluation_scores = scores(KNN_model, X_train, Y_train, X_test, Y_test)\n",
    "print_scores_table(KNN_evaluation_scores)"
   ]
  },
  {
   "cell_type": "code",
   "execution_count": 49,
   "id": "5ffcf2b8-240d-4232-901d-ceb03570c072",
   "metadata": {},
   "outputs": [
    {
     "name": "stdout",
     "output_type": "stream",
     "text": [
      "Accuracy: 85.96%\n",
      "Confusion matrix, without normalization\n"
     ]
    },
    {
     "data": {
      "image/png": "[encoded data removed]",
      "text/plain": [
       "<Figure size 640x480 with 2 Axes>"
      ]
     },
     "metadata": {},
     "output_type": "display_data"
    }
   ],
   "source": [
    "#accuracy score on the test data\n",
    "Y_pred = KNN_model.predict(X_test)\n",
    "score = metrics.accuracy_score(Y_test, Y_pred)\n",
    "print(f'Accuracy: {round(score*100,2)}%')\n",
    "cm = metrics.confusion_matrix(Y_test, Y_pred)\n",
    "plot_confusion_matrix(cm, classes=['Fake Data', 'Real Data'])"
   ]
  },
  {
   "cell_type": "markdown",
   "id": "9564bff4-13db-4815-afda-c55c1d69abf4",
   "metadata": {},
   "source": [
    "### <font color=green> Making a Predictive Model</font>"
   ]
  },
  {
   "cell_type": "code",
   "execution_count": 50,
   "id": "ae16c3b5-3291-412c-ab73-43783faa69d3",
   "metadata": {},
   "outputs": [
    {
     "name": "stdout",
     "output_type": "stream",
     "text": [
      "[0]\n",
      "The news is Real\n"
     ]
    }
   ],
   "source": [
    "X_new_KNN = X_test[3]\n",
    "\n",
    "prediction_KNN = KNN_model.predict(X_new_KNN)\n",
    "print(prediction_KNN)\n",
    "\n",
    "if (prediction_KNN[0]==0):\n",
    "  print('The news is Real')\n",
    "else:\n",
    "  print('The news is Fake')"
   ]
  },
  {
   "cell_type": "markdown",
   "id": "1cd373c9-507a-4230-972e-63effb247990",
   "metadata": {},
   "source": [
    "### <font color=violet> Support Vector Machine </font>"
   ]
  },
  {
   "cell_type": "code",
   "execution_count": 56,
   "id": "ab9b885d-fa7a-45da-ae9f-eee14e637b8e",
   "metadata": {},
   "outputs": [],
   "source": [
    "SVM_model = svm.SVC(probability=True)"
   ]
  },
  {
   "cell_type": "code",
   "execution_count": 57,
   "id": "2c0c3d40-2cb9-4153-8a31-316446fe13d3",
   "metadata": {},
   "outputs": [],
   "source": [
    "SVM_model = SVM_model.fit(X_train, Y_train) "
   ]
  },
  {
   "cell_type": "markdown",
   "id": "a33fdb7e-9a42-4c5f-92d1-9036fc7e2598",
   "metadata": {},
   "source": [
    "### <font color=purple> Performance Evaluation</font>"
   ]
  },
  {
   "cell_type": "code",
   "execution_count": 54,
   "id": "bc3de18b-0f23-419b-800c-b349a20c5661",
   "metadata": {},
   "outputs": [
    {
     "name": "stdout",
     "output_type": "stream",
     "text": [
      "Evaluation Metrics:\n",
      "\n",
      "Training Set:\n",
      "Accuracy: 0.996734693877551\n",
      "Confusion Matrix:\n",
      " [[1830    7]\n",
      " [   5 1833]]\n",
      "Recall: 0.9972796517954298\n",
      "F1-Score: 0.9967373572593801\n",
      "\n",
      "Testing Set:\n",
      "Accuracy: 0.9205658324265505\n",
      "Confusion Matrix:\n",
      " [[409  51]\n",
      " [ 22 437]]\n",
      "Recall: 0.9520697167755992\n",
      "F1-Score: 0.9229144667370645\n"
     ]
    }
   ],
   "source": [
    "SVM_evaluation_scores = scores(SVM_model, X_train, Y_train, X_test, Y_test)\n",
    "print_scores_table(SVM_evaluation_scores)"
   ]
  },
  {
   "cell_type": "code",
   "execution_count": 58,
   "id": "49afd140-1cdc-4627-85cd-fbfcabd48f1d",
   "metadata": {},
   "outputs": [
    {
     "name": "stdout",
     "output_type": "stream",
     "text": [
      "Accuracy: 92.06%\n",
      "Confusion matrix, without normalization\n"
     ]
    },
    {
     "data": {
      "image/png": "[encoded data removed]",
      "text/plain": [
       "<Figure size 640x480 with 2 Axes>"
      ]
     },
     "metadata": {},
     "output_type": "display_data"
    }
   ],
   "source": [
    "#accuracy score on the test data\n",
    "Y_pred = SVM_model.predict(X_test)\n",
    "score = metrics.accuracy_score(Y_test, Y_pred)\n",
    "print(f'Accuracy: {round(score*100,2)}%')\n",
    "cm = metrics.confusion_matrix(Y_test, Y_pred)\n",
    "plot_confusion_matrix(cm, classes=['Fake Data', 'Real Data'])"
   ]
  },
  {
   "cell_type": "markdown",
   "id": "9b99b6e1-e8ef-40e6-8da3-cf11385e3059",
   "metadata": {},
   "source": [
    "### <font color=green> Making a Predictive Model</font>"
   ]
  },
  {
   "cell_type": "code",
   "execution_count": 59,
   "id": "d8b48c27-d1cf-4ac1-9fce-9588c0c6f868",
   "metadata": {},
   "outputs": [
    {
     "name": "stdout",
     "output_type": "stream",
     "text": [
      "[1]\n",
      "The news is Fake\n"
     ]
    }
   ],
   "source": [
    "X_new_SVM = X_test[2]\n",
    "\n",
    "prediction_SVM = SVM_model.predict(X_new_SVM)\n",
    "print(prediction_SVM)\n",
    "\n",
    "if (prediction_SVM[0]==0):\n",
    "  print('The news is Real')\n",
    "else:\n",
    "  print('The news is Fake')"
   ]
  },
  {
   "cell_type": "markdown",
   "id": "29444f7c-bb7d-4cee-9458-63cfaf1eaabc",
   "metadata": {},
   "source": [
    "### <font color=violet> Decision Tree</font>"
   ]
  },
  {
   "cell_type": "code",
   "execution_count": 60,
   "id": "2ea229fa-102a-498c-889e-aa65da62ad2d",
   "metadata": {},
   "outputs": [],
   "source": [
    "# applying Pre-Pruning techniques to control tree complexity during the growth phase\n",
    "DT_model = tree.DecisionTreeClassifier(           \n",
    "      max_depth=3,          # limiting the depth of the tree\n",
    "      min_samples_split=5,  # minimum samples to create a split\n",
    "      min_samples_leaf=2    # minimum samples in a leaf node \n",
    ")"
   ]
  },
  {
   "cell_type": "code",
   "execution_count": 61,
   "id": "c660cdd5-6588-4807-803e-619894796bca",
   "metadata": {},
   "outputs": [],
   "source": [
    "DT_model = DT_model.fit(X_train, Y_train) "
   ]
  },
  {
   "cell_type": "markdown",
   "id": "26090625-4b14-4373-938b-1861a6719d1d",
   "metadata": {},
   "source": [
    "### <font color=purple> Performance Evaluation</font>"
   ]
  },
  {
   "cell_type": "code",
   "execution_count": 62,
   "id": "db0177c5-2adf-4ded-a50c-f10b822f2946",
   "metadata": {},
   "outputs": [
    {
     "name": "stdout",
     "output_type": "stream",
     "text": [
      "Evaluation Metrics:\n",
      "\n",
      "Training Set:\n",
      "Accuracy: 0.8293877551020408\n",
      "Confusion Matrix:\n",
      " [[1435  402]\n",
      " [ 225 1613]]\n",
      "Recall: 0.8775843307943417\n",
      "F1-Score: 0.8372696600051908\n",
      "\n",
      "Testing Set:\n",
      "Accuracy: 0.8161044613710555\n",
      "Confusion Matrix:\n",
      " [[358 102]\n",
      " [ 67 392]]\n",
      "Recall: 0.8540305010893247\n",
      "F1-Score: 0.8226652675760756\n"
     ]
    }
   ],
   "source": [
    "DT_evaluation_scores = scores(DT_model, X_train, Y_train, X_test, Y_test)\n",
    "print_scores_table(DT_evaluation_scores)"
   ]
  },
  {
   "cell_type": "code",
   "execution_count": 63,
   "id": "0cd0dafd-7731-4f46-9383-b3d4d6e6de2e",
   "metadata": {},
   "outputs": [
    {
     "name": "stdout",
     "output_type": "stream",
     "text": [
      "Accuracy: 81.61%\n",
      "Confusion matrix, without normalization\n"
     ]
    },
    {
     "data": {
      "image/png": "[encoded data removed]",
      "text/plain": [
       "<Figure size 640x480 with 2 Axes>"
      ]
     },
     "metadata": {},
     "output_type": "display_data"
    }
   ],
   "source": [
    "#accuracy score on the test data\n",
    "Y_pred = DT_model.predict(X_test)\n",
    "score = metrics.accuracy_score(Y_test, Y_pred)\n",
    "print(f'Accuracy: {round(score*100,2)}%')\n",
    "cm = metrics.confusion_matrix(Y_test, Y_pred)\n",
    "plot_confusion_matrix(cm, classes=['Fake Data', 'Real Data'])"
   ]
  },
  {
   "cell_type": "markdown",
   "id": "ca3de9f0-9a93-4a74-b320-ac72aac32bf5",
   "metadata": {},
   "source": [
    "### <font color=green> Making a Predictive Model</font>"
   ]
  },
  {
   "cell_type": "code",
   "execution_count": 64,
   "id": "ac389595-1384-415a-a22c-a49b827d4150",
   "metadata": {},
   "outputs": [
    {
     "name": "stdout",
     "output_type": "stream",
     "text": [
      "[0]\n",
      "The news is Real\n"
     ]
    }
   ],
   "source": [
    "X_new_DT = X_test[3]\n",
    "prediction_DT = DT_model.predict(X_new_DT)\n",
    "print(prediction_DT)\n",
    "\n",
    "if (prediction_DT[0]==0):\n",
    "  print('The news is Real')\n",
    "else:\n",
    "  print('The news is Fake')"
   ]
  },
  {
   "cell_type": "markdown",
   "id": "71b10199-baa4-4a1b-9199-2725dc68486a",
   "metadata": {},
   "source": [
    "### <font color=violet> Multinomial Naive Bayes</font>"
   ]
  },
  {
   "cell_type": "code",
   "execution_count": 65,
   "id": "ddfa73f3-db9f-436b-b2c0-69860586f726",
   "metadata": {},
   "outputs": [],
   "source": [
    "MNB_model = MultinomialNB() "
   ]
  },
  {
   "cell_type": "code",
   "execution_count": 66,
   "id": "f1bf0602-3fde-4108-818f-487573bfdf18",
   "metadata": {},
   "outputs": [],
   "source": [
    "MNB_model = MNB_model.fit(X_train, Y_train) "
   ]
  },
  {
   "cell_type": "markdown",
   "id": "f1d761f9-0cae-4f99-aabd-3703723bead7",
   "metadata": {},
   "source": [
    "### <font color=purple> Performance Evaluation</font>"
   ]
  },
  {
   "cell_type": "code",
   "execution_count": 67,
   "id": "e7073a24-e4fa-46d7-b214-6cf7d56f8b9a",
   "metadata": {},
   "outputs": [
    {
     "name": "stdout",
     "output_type": "stream",
     "text": [
      "Evaluation Metrics:\n",
      "\n",
      "Training Set:\n",
      "Accuracy: 0.8868027210884354\n",
      "Confusion Matrix:\n",
      " [[1810   27]\n",
      " [ 389 1449]]\n",
      "Recall: 0.7883569096844396\n",
      "F1-Score: 0.8744719372359686\n",
      "\n",
      "Testing Set:\n",
      "Accuracy: 0.8356909684439608\n",
      "Confusion Matrix:\n",
      " [[450  10]\n",
      " [141 318]]\n",
      "Recall: 0.6928104575163399\n",
      "F1-Score: 0.8081321473951715\n"
     ]
    }
   ],
   "source": [
    "MNB_evaluation_scores = scores(MNB_model, X_train, Y_train, X_test, Y_test)\n",
    "print_scores_table(MNB_evaluation_scores)"
   ]
  },
  {
   "cell_type": "code",
   "execution_count": 68,
   "id": "61dc6fe3-0024-4656-a997-0877e33c0668",
   "metadata": {},
   "outputs": [
    {
     "name": "stdout",
     "output_type": "stream",
     "text": [
      "Accuracy: 83.57%\n",
      "Confusion matrix, without normalization\n"
     ]
    },
    {
     "data": {
      "image/png": "[encoded data removed]",
      "text/plain": [
       "<Figure size 640x480 with 2 Axes>"
      ]
     },
     "metadata": {},
     "output_type": "display_data"
    }
   ],
   "source": [
    "#accuracy score on the test data\n",
    "Y_pred = MNB_model.predict(X_test)\n",
    "score = metrics.accuracy_score(Y_test, Y_pred)\n",
    "print(f'Accuracy: {round(score*100,2)}%')\n",
    "cm = metrics.confusion_matrix(Y_test, Y_pred)\n",
    "plot_confusion_matrix(cm, classes=['Fake Data', 'Real Data'])"
   ]
  },
  {
   "cell_type": "markdown",
   "id": "41e745d0-7192-4330-96a0-f036596ad302",
   "metadata": {},
   "source": [
    "### <font color=green> Making a Predictive Model</font>"
   ]
  },
  {
   "cell_type": "code",
   "execution_count": 60,
   "id": "5d0fd77f-7a1b-430a-91be-439fef5098ac",
   "metadata": {},
   "outputs": [
    {
     "name": "stdout",
     "output_type": "stream",
     "text": [
      "[0]\n",
      "The news is Real\n"
     ]
    }
   ],
   "source": [
    "X_new_MNB = X_test[3]\n",
    "\n",
    "prediction_MNB = LR_model.predict(X_new_MNB)\n",
    "print(prediction_MNB)\n",
    "\n",
    "if (prediction_MNB[0]==0):\n",
    "  print('The news is Real')\n",
    "else:\n",
    "  print('The news is Fake')"
   ]
  }
 ],
 "metadata": {
  "kernelspec": {
   "display_name": "Python 3 (ipykernel)",
   "language": "python",
   "name": "python3"
  },
  "language_info": {
   "codemirror_mode": {
    "name": "ipython",
    "version": 3
   },
   "file_extension": ".py",
   "mimetype": "text/x-python",
   "name": "python",
   "nbconvert_exporter": "python",
   "pygments_lexer": "ipython3",
   "version": "3.11.7"
  }
 },
 "nbformat": 4,
 "nbformat_minor": 5
}
